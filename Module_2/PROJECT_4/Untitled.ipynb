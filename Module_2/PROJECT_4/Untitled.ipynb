{
 "cells": [
  {
   "cell_type": "markdown",
   "metadata": {},
   "source": [
    "# API RESQUESTS IDEALISTA"
   ]
  },
  {
   "cell_type": "code",
   "execution_count": 25,
   "metadata": {},
   "outputs": [],
   "source": [
    "import pandas as pd\n",
    "import json\n",
    "import urllib\n",
    "import requests as rq\n",
    "import base64"
   ]
  },
  {
   "cell_type": "code",
   "execution_count": 22,
   "metadata": {},
   "outputs": [
    {
     "data": {
      "text/plain": [
       "<Response [403]>"
      ]
     },
     "execution_count": 22,
     "metadata": {},
     "output_type": "execute_result"
    }
   ],
   "source": [
    "apikey = 'jbhbbr2o9hxxxnrcrnk6ldx3aibodifj'\n",
    "secret = 'z1W2tFH7XpzH'\n",
    "url    = 'https://api.idealista.com/3.5/es/search'\n",
    "reponse = requests.get(url, auth = (apikey, secret))\n",
    "reponse"
   ]
  },
  {
   "cell_type": "code",
   "execution_count": 24,
   "metadata": {},
   "outputs": [
    {
     "data": {
      "text/plain": [
       "{'error': 'access_denied', 'error_description': 'Access is denied'}"
      ]
     },
     "execution_count": 24,
     "metadata": {},
     "output_type": "execute_result"
    }
   ],
   "source": [
    "result = reponse.json()\n",
    "result"
   ]
  },
  {
   "cell_type": "code",
   "execution_count": null,
   "metadata": {},
   "outputs": [],
   "source": []
  },
  {
   "cell_type": "code",
   "execution_count": null,
   "metadata": {},
   "outputs": [],
   "source": []
  },
  {
   "cell_type": "code",
   "execution_count": null,
   "metadata": {},
   "outputs": [],
   "source": []
  },
  {
   "cell_type": "code",
   "execution_count": null,
   "metadata": {},
   "outputs": [],
   "source": []
  },
  {
   "cell_type": "code",
   "execution_count": null,
   "metadata": {},
   "outputs": [],
   "source": []
  },
  {
   "cell_type": "code",
   "execution_count": 68,
   "metadata": {},
   "outputs": [],
   "source": [
    "def get_token():\n",
    "    url = 'https://api.idealista.com/3.5/es/search'\n",
    "    apikey = 'jbhbbr2o9hxxxnrcrnk6ldx3aibodifj'\n",
    "    secret = 'z1W2tFH7XpzH'\n",
    "    auth  = base64.b64encode(bytes(apikey+':'+secret, 'utf-8'))\n",
    "    headers = {'Content-Type': 'application/x-www-form-urlencoded;charset=UTF-8' ,'Authorization' : 'Basic ' + auth}\n",
    "    params = urllib.urlencode({'grant_type':'client_credentials'})\n",
    "    content = rq.post(url,headers = headers, params=params)\n",
    "    bearer_token = json.loads(content.text)['access_token']\n",
    "    return bearer_token"
   ]
  },
  {
   "cell_type": "code",
   "execution_count": 82,
   "metadata": {},
   "outputs": [
    {
     "name": "stdout",
     "output_type": "stream",
     "text": [
      "b'amJoYmJyMm85aHh4eG5yY3JuazZsZHgzYWlib2RpZmo6ejFXMnRGSDdYcHpI'\n"
     ]
    },
    {
     "ename": "TypeError",
     "evalue": "can only concatenate str (not \"bytes\") to str",
     "output_type": "error",
     "traceback": [
      "\u001b[1;31m---------------------------------------------------------------------------\u001b[0m",
      "\u001b[1;31mTypeError\u001b[0m                                 Traceback (most recent call last)",
      "\u001b[1;32m<ipython-input-82-a434f522e570>\u001b[0m in \u001b[0;36m<module>\u001b[1;34m\u001b[0m\n\u001b[1;32m----> 1\u001b[1;33m \u001b[0mbearer_token\u001b[0m \u001b[1;33m=\u001b[0m \u001b[0mget_token\u001b[0m\u001b[1;33m(\u001b[0m\u001b[1;33m)\u001b[0m\u001b[1;33m\u001b[0m\u001b[1;33m\u001b[0m\u001b[0m\n\u001b[0m\u001b[0;32m      2\u001b[0m \u001b[0mbearer_token\u001b[0m\u001b[1;33m\u001b[0m\u001b[1;33m\u001b[0m\u001b[0m\n",
      "\u001b[1;32m<ipython-input-68-1c332483e666>\u001b[0m in \u001b[0;36mget_token\u001b[1;34m()\u001b[0m\n\u001b[0;32m      5\u001b[0m     \u001b[0mauth\u001b[0m  \u001b[1;33m=\u001b[0m \u001b[0mbase64\u001b[0m\u001b[1;33m.\u001b[0m\u001b[0mb64encode\u001b[0m\u001b[1;33m(\u001b[0m\u001b[0mbytes\u001b[0m\u001b[1;33m(\u001b[0m\u001b[0mapikey\u001b[0m\u001b[1;33m+\u001b[0m\u001b[1;34m':'\u001b[0m\u001b[1;33m+\u001b[0m\u001b[0msecret\u001b[0m\u001b[1;33m,\u001b[0m \u001b[1;34m'utf-8'\u001b[0m\u001b[1;33m)\u001b[0m\u001b[1;33m)\u001b[0m\u001b[1;33m\u001b[0m\u001b[1;33m\u001b[0m\u001b[0m\n\u001b[0;32m      6\u001b[0m     \u001b[0mprint\u001b[0m\u001b[1;33m(\u001b[0m\u001b[0mauth\u001b[0m\u001b[1;33m)\u001b[0m\u001b[1;33m\u001b[0m\u001b[1;33m\u001b[0m\u001b[0m\n\u001b[1;32m----> 7\u001b[1;33m     \u001b[0mheaders\u001b[0m \u001b[1;33m=\u001b[0m \u001b[1;33m{\u001b[0m\u001b[1;34m'Content-Type'\u001b[0m\u001b[1;33m:\u001b[0m \u001b[1;34m'application/x-www-form-urlencoded;charset=UTF-8'\u001b[0m \u001b[1;33m,\u001b[0m\u001b[1;34m'Authorization'\u001b[0m \u001b[1;33m:\u001b[0m \u001b[1;34m'Basic '\u001b[0m \u001b[1;33m+\u001b[0m \u001b[0mauth\u001b[0m\u001b[1;33m}\u001b[0m\u001b[1;33m\u001b[0m\u001b[1;33m\u001b[0m\u001b[0m\n\u001b[0m\u001b[0;32m      8\u001b[0m     \u001b[0mparams\u001b[0m \u001b[1;33m=\u001b[0m \u001b[0murllib\u001b[0m\u001b[1;33m.\u001b[0m\u001b[0murlencode\u001b[0m\u001b[1;33m(\u001b[0m\u001b[1;33m{\u001b[0m\u001b[1;34m'grant_type'\u001b[0m\u001b[1;33m:\u001b[0m\u001b[1;34m'client_credentials'\u001b[0m\u001b[1;33m}\u001b[0m\u001b[1;33m)\u001b[0m\u001b[1;33m\u001b[0m\u001b[1;33m\u001b[0m\u001b[0m\n\u001b[0;32m      9\u001b[0m     \u001b[0mcontent\u001b[0m \u001b[1;33m=\u001b[0m \u001b[0mrq\u001b[0m\u001b[1;33m.\u001b[0m\u001b[0mpost\u001b[0m\u001b[1;33m(\u001b[0m\u001b[0murl\u001b[0m\u001b[1;33m,\u001b[0m\u001b[0mheaders\u001b[0m \u001b[1;33m=\u001b[0m \u001b[0mheaders\u001b[0m\u001b[1;33m,\u001b[0m \u001b[0mparams\u001b[0m\u001b[1;33m=\u001b[0m\u001b[0mparams\u001b[0m\u001b[1;33m)\u001b[0m\u001b[1;33m\u001b[0m\u001b[1;33m\u001b[0m\u001b[0m\n",
      "\u001b[1;31mTypeError\u001b[0m: can only concatenate str (not \"bytes\") to str"
     ]
    }
   ],
   "source": [
    "bearer_token = get_token()\n",
    "bearer_token"
   ]
  },
  {
   "cell_type": "code",
   "execution_count": 107,
   "metadata": {},
   "outputs": [],
   "source": [
    "def search_api(token, url):  \n",
    "    headers = {'Content-Type': 'Content-Type: multipart/form-data;', 'Authorization' : 'Bearer ' + token}\n",
    "    content = rq.post(url, headers = headers)\n",
    "    result = json.loads(content.text)['access_token']\n",
    "    return result"
   ]
  },
  {
   "cell_type": "code",
   "execution_count": 108,
   "metadata": {},
   "outputs": [
    {
     "ename": "KeyError",
     "evalue": "'access_token'",
     "output_type": "error",
     "traceback": [
      "\u001b[1;31m---------------------------------------------------------------------------\u001b[0m",
      "\u001b[1;31mKeyError\u001b[0m                                  Traceback (most recent call last)",
      "\u001b[1;32m<ipython-input-108-5f5a795ecb16>\u001b[0m in \u001b[0;36m<module>\u001b[1;34m\u001b[0m\n\u001b[0;32m      2\u001b[0m \u001b[0mb_token\u001b[0m \u001b[1;33m=\u001b[0m \u001b[1;34m'amJoYmJyMm85aHh4eG5yY3JuazZsZHgzYWlib2RpZmo6ejFXMnRGSDdYcHpI'\u001b[0m\u001b[1;33m\u001b[0m\u001b[1;33m\u001b[0m\u001b[0m\n\u001b[0;32m      3\u001b[0m \u001b[1;33m\u001b[0m\u001b[0m\n\u001b[1;32m----> 4\u001b[1;33m \u001b[0msearch_api\u001b[0m\u001b[1;33m(\u001b[0m\u001b[0mb_token\u001b[0m\u001b[1;33m,\u001b[0m \u001b[0murl\u001b[0m\u001b[1;33m)\u001b[0m\u001b[1;33m\u001b[0m\u001b[1;33m\u001b[0m\u001b[0m\n\u001b[0m",
      "\u001b[1;32m<ipython-input-107-5138010a7f00>\u001b[0m in \u001b[0;36msearch_api\u001b[1;34m(token, url)\u001b[0m\n\u001b[0;32m      2\u001b[0m     \u001b[0mheaders\u001b[0m \u001b[1;33m=\u001b[0m \u001b[1;33m{\u001b[0m\u001b[1;34m'Content-Type'\u001b[0m\u001b[1;33m:\u001b[0m \u001b[1;34m'Content-Type: multipart/form-data;'\u001b[0m\u001b[1;33m,\u001b[0m \u001b[1;34m'Authorization'\u001b[0m \u001b[1;33m:\u001b[0m \u001b[1;34m'Bearer '\u001b[0m \u001b[1;33m+\u001b[0m \u001b[0mtoken\u001b[0m\u001b[1;33m}\u001b[0m\u001b[1;33m\u001b[0m\u001b[1;33m\u001b[0m\u001b[0m\n\u001b[0;32m      3\u001b[0m     \u001b[0mcontent\u001b[0m \u001b[1;33m=\u001b[0m \u001b[0mrq\u001b[0m\u001b[1;33m.\u001b[0m\u001b[0mpost\u001b[0m\u001b[1;33m(\u001b[0m\u001b[0murl\u001b[0m\u001b[1;33m,\u001b[0m \u001b[0mheaders\u001b[0m \u001b[1;33m=\u001b[0m \u001b[0mheaders\u001b[0m\u001b[1;33m)\u001b[0m\u001b[1;33m\u001b[0m\u001b[1;33m\u001b[0m\u001b[0m\n\u001b[1;32m----> 4\u001b[1;33m     \u001b[0mresult\u001b[0m \u001b[1;33m=\u001b[0m \u001b[0mjson\u001b[0m\u001b[1;33m.\u001b[0m\u001b[0mloads\u001b[0m\u001b[1;33m(\u001b[0m\u001b[0mcontent\u001b[0m\u001b[1;33m.\u001b[0m\u001b[0mtext\u001b[0m\u001b[1;33m)\u001b[0m\u001b[1;33m[\u001b[0m\u001b[1;34m'access_token'\u001b[0m\u001b[1;33m]\u001b[0m\u001b[1;33m\u001b[0m\u001b[1;33m\u001b[0m\u001b[0m\n\u001b[0m\u001b[0;32m      5\u001b[0m     \u001b[1;32mreturn\u001b[0m \u001b[0mresult\u001b[0m\u001b[1;33m\u001b[0m\u001b[1;33m\u001b[0m\u001b[0m\n",
      "\u001b[1;31mKeyError\u001b[0m: 'access_token'"
     ]
    }
   ],
   "source": [
    "url = 'https://api.idealista.com/3.5/es/search'\n",
    "b_token = 'amJoYmJyMm85aHh4eG5yY3JuazZsZHgzYWlib2RpZmo6ejFXMnRGSDdYcHpI'\n",
    "\n",
    "search_api(b_token, url)"
   ]
  },
  {
   "cell_type": "code",
   "execution_count": 92,
   "metadata": {},
   "outputs": [],
   "source": [
    "country = 'es' #values: es, it, pt\n",
    "locale = 'es' #values: es, it, pt, en, ca\n",
    "language = 'es' #\n",
    "max_items = '50'\n",
    "operation = 'sale' \n",
    "property_type = 'homes'\n",
    "order = 'priceDown' \n",
    "center = '41.3888, 2.159' \n",
    "distance = '60000'\n",
    "sort = 'desc'\n",
    "bankOffer = 'false'"
   ]
  },
  {
   "cell_type": "code",
   "execution_count": 94,
   "metadata": {},
   "outputs": [
    {
     "name": "stdout",
     "output_type": "stream",
     "text": [
      "b'amJoYmJyMm85aHh4eG5yY3JuazZsZHgzYWlib2RpZmo6ejFXMnRGSDdYcHpI'\n"
     ]
    },
    {
     "ename": "TypeError",
     "evalue": "can only concatenate str (not \"bytes\") to str",
     "output_type": "error",
     "traceback": [
      "\u001b[1;31m---------------------------------------------------------------------------\u001b[0m",
      "\u001b[1;31mTypeError\u001b[0m                                 Traceback (most recent call last)",
      "\u001b[1;32m<ipython-input-94-2ba09c90d85c>\u001b[0m in \u001b[0;36m<module>\u001b[1;34m\u001b[0m\n\u001b[0;32m     12\u001b[0m            \u001b[1;34m'&numPage=%s'\u001b[0m\u001b[1;33m+\u001b[0m\u001b[1;33m\u001b[0m\u001b[1;33m\u001b[0m\u001b[0m\n\u001b[0;32m     13\u001b[0m            '&language='+language) %(i)  \n\u001b[1;32m---> 14\u001b[1;33m     \u001b[0ma\u001b[0m \u001b[1;33m=\u001b[0m \u001b[0msearch_api\u001b[0m\u001b[1;33m(\u001b[0m\u001b[0mget_token\u001b[0m\u001b[1;33m(\u001b[0m\u001b[1;33m)\u001b[0m\u001b[1;33m,\u001b[0m \u001b[0murl\u001b[0m\u001b[1;33m)\u001b[0m\u001b[1;33m\u001b[0m\u001b[1;33m\u001b[0m\u001b[0m\n\u001b[0m\u001b[0;32m     15\u001b[0m     \u001b[0mdf\u001b[0m \u001b[1;33m=\u001b[0m \u001b[0mpd\u001b[0m\u001b[1;33m.\u001b[0m\u001b[0mDataFrame\u001b[0m\u001b[1;33m.\u001b[0m\u001b[0mfrom_dict\u001b[0m\u001b[1;33m(\u001b[0m\u001b[0ma\u001b[0m\u001b[1;33m[\u001b[0m\u001b[1;34m'elementList'\u001b[0m\u001b[1;33m]\u001b[0m\u001b[1;33m)\u001b[0m\u001b[1;33m\u001b[0m\u001b[1;33m\u001b[0m\u001b[0m\n\u001b[0;32m     16\u001b[0m     \u001b[0mdf_tot\u001b[0m \u001b[1;33m=\u001b[0m \u001b[0mpd\u001b[0m\u001b[1;33m.\u001b[0m\u001b[0mconcat\u001b[0m\u001b[1;33m(\u001b[0m\u001b[1;33m[\u001b[0m\u001b[0mdf_tot\u001b[0m\u001b[1;33m,\u001b[0m\u001b[0mdf\u001b[0m\u001b[1;33m]\u001b[0m\u001b[1;33m)\u001b[0m\u001b[1;33m\u001b[0m\u001b[1;33m\u001b[0m\u001b[0m\n",
      "\u001b[1;32m<ipython-input-68-1c332483e666>\u001b[0m in \u001b[0;36mget_token\u001b[1;34m()\u001b[0m\n\u001b[0;32m      5\u001b[0m     \u001b[0mauth\u001b[0m  \u001b[1;33m=\u001b[0m \u001b[0mbase64\u001b[0m\u001b[1;33m.\u001b[0m\u001b[0mb64encode\u001b[0m\u001b[1;33m(\u001b[0m\u001b[0mbytes\u001b[0m\u001b[1;33m(\u001b[0m\u001b[0mapikey\u001b[0m\u001b[1;33m+\u001b[0m\u001b[1;34m':'\u001b[0m\u001b[1;33m+\u001b[0m\u001b[0msecret\u001b[0m\u001b[1;33m,\u001b[0m \u001b[1;34m'utf-8'\u001b[0m\u001b[1;33m)\u001b[0m\u001b[1;33m)\u001b[0m\u001b[1;33m\u001b[0m\u001b[1;33m\u001b[0m\u001b[0m\n\u001b[0;32m      6\u001b[0m     \u001b[0mprint\u001b[0m\u001b[1;33m(\u001b[0m\u001b[0mauth\u001b[0m\u001b[1;33m)\u001b[0m\u001b[1;33m\u001b[0m\u001b[1;33m\u001b[0m\u001b[0m\n\u001b[1;32m----> 7\u001b[1;33m     \u001b[0mheaders\u001b[0m \u001b[1;33m=\u001b[0m \u001b[1;33m{\u001b[0m\u001b[1;34m'Content-Type'\u001b[0m\u001b[1;33m:\u001b[0m \u001b[1;34m'application/x-www-form-urlencoded;charset=UTF-8'\u001b[0m \u001b[1;33m,\u001b[0m\u001b[1;34m'Authorization'\u001b[0m \u001b[1;33m:\u001b[0m \u001b[1;34m'Basic '\u001b[0m \u001b[1;33m+\u001b[0m \u001b[0mauth\u001b[0m\u001b[1;33m}\u001b[0m\u001b[1;33m\u001b[0m\u001b[1;33m\u001b[0m\u001b[0m\n\u001b[0m\u001b[0;32m      8\u001b[0m     \u001b[0mparams\u001b[0m \u001b[1;33m=\u001b[0m \u001b[0murllib\u001b[0m\u001b[1;33m.\u001b[0m\u001b[0murlencode\u001b[0m\u001b[1;33m(\u001b[0m\u001b[1;33m{\u001b[0m\u001b[1;34m'grant_type'\u001b[0m\u001b[1;33m:\u001b[0m\u001b[1;34m'client_credentials'\u001b[0m\u001b[1;33m}\u001b[0m\u001b[1;33m)\u001b[0m\u001b[1;33m\u001b[0m\u001b[1;33m\u001b[0m\u001b[0m\n\u001b[0;32m      9\u001b[0m     \u001b[0mcontent\u001b[0m \u001b[1;33m=\u001b[0m \u001b[0mrq\u001b[0m\u001b[1;33m.\u001b[0m\u001b[0mpost\u001b[0m\u001b[1;33m(\u001b[0m\u001b[0murl\u001b[0m\u001b[1;33m,\u001b[0m\u001b[0mheaders\u001b[0m \u001b[1;33m=\u001b[0m \u001b[0mheaders\u001b[0m\u001b[1;33m,\u001b[0m \u001b[0mparams\u001b[0m\u001b[1;33m=\u001b[0m\u001b[0mparams\u001b[0m\u001b[1;33m)\u001b[0m\u001b[1;33m\u001b[0m\u001b[1;33m\u001b[0m\u001b[0m\n",
      "\u001b[1;31mTypeError\u001b[0m: can only concatenate str (not \"bytes\") to str"
     ]
    }
   ],
   "source": [
    "df_tot = pd.DataFrame()\n",
    "limit = 10\n",
    "\n",
    "for i in range(1,limit):\n",
    "    url = ('https://api.idealista.com/3.5/'+country+'/search?operation='+operation+#\"&locale=\"+locale+\n",
    "           '&maxItems='+max_items+\n",
    "           '&order='+order+\n",
    "           '&center='+center+\n",
    "           '&distance='+distance+\n",
    "           '&propertyType='+property_type+\n",
    "           '&sort='+sort+ \n",
    "           '&numPage=%s'+\n",
    "           '&language='+language) %(i)  \n",
    "    a = search_api(get_token(), url)\n",
    "    df = pd.DataFrame.from_dict(a['elementList'])\n",
    "    df_tot = pd.concat([df_tot,df])\n",
    "\n",
    "df_tot = df_tot.reset_index()"
   ]
  },
  {
   "cell_type": "code",
   "execution_count": null,
   "metadata": {},
   "outputs": [],
   "source": []
  },
  {
   "cell_type": "code",
   "execution_count": null,
   "metadata": {},
   "outputs": [],
   "source": []
  },
  {
   "cell_type": "code",
   "execution_count": null,
   "metadata": {},
   "outputs": [],
   "source": []
  },
  {
   "cell_type": "code",
   "execution_count": null,
   "metadata": {},
   "outputs": [],
   "source": []
  },
  {
   "cell_type": "code",
   "execution_count": null,
   "metadata": {},
   "outputs": [],
   "source": []
  },
  {
   "cell_type": "code",
   "execution_count": null,
   "metadata": {},
   "outputs": [],
   "source": []
  },
  {
   "cell_type": "code",
   "execution_count": null,
   "metadata": {},
   "outputs": [],
   "source": []
  },
  {
   "cell_type": "code",
   "execution_count": 29,
   "metadata": {},
   "outputs": [],
   "source": [
    "url = 'https://www.bcn.cat/estadistica/castella/dades/timm/ipreus/hab2mave/evo/t2mab.htm'\n",
    "url2= 'https://www.bcn.cat/estadistica/castella/dades/timm/ipreus/hab2mave/evo/t2mad.htm'"
   ]
  },
  {
   "cell_type": "code",
   "execution_count": 106,
   "metadata": {},
   "outputs": [
    {
     "data": {
      "text/plain": [
       "[                                     7. Horta-Guinardó  \\\n",
       " 0                                        8. Nou Barris   \n",
       " 1                                       9. Sant Andreu   \n",
       " 2                                       10. Sant Martí   \n",
       " 3                                                 2002   \n",
       " 4                                            BARCELONA   \n",
       " ..                                                 ...   \n",
       " 235  ¹ Los cambios metodológicos introducidos el 20...   \n",
       " 236     Hasta 2018 datos del 4º trimestre de cada año.   \n",
       " 237                                                NaN   \n",
       " 238  Ajuntament de Barcelona. Departament d'Estadís...   \n",
       " 239                              Fuente: Idealista.com   \n",
       " \n",
       "                                    7. Horta-Guinardó.1  \\\n",
       " 0                                        8. Nou Barris   \n",
       " 1                                       9. Sant Andreu   \n",
       " 2                                       10. Sant Martí   \n",
       " 3                                                 2002   \n",
       " 4                                            BARCELONA   \n",
       " ..                                                 ...   \n",
       " 235  ¹ Los cambios metodológicos introducidos el 20...   \n",
       " 236     Hasta 2018 datos del 4º trimestre de cada año.   \n",
       " 237                                                NaN   \n",
       " 238  Ajuntament de Barcelona. Departament d'Estadís...   \n",
       " 239                              Fuente: Idealista.com   \n",
       " \n",
       "                                    7. Horta-Guinardó.2  \\\n",
       " 0                                        8. Nou Barris   \n",
       " 1                                       9. Sant Andreu   \n",
       " 2                                       10. Sant Martí   \n",
       " 3                                                 2002   \n",
       " 4                                            BARCELONA   \n",
       " ..                                                 ...   \n",
       " 235  ¹ Los cambios metodológicos introducidos el 20...   \n",
       " 236     Hasta 2018 datos del 4º trimestre de cada año.   \n",
       " 237                                                NaN   \n",
       " 238  Ajuntament de Barcelona. Departament d'Estadís...   \n",
       " 239                              Fuente: Idealista.com   \n",
       " \n",
       "                                                      -  \\\n",
       " 0                                                    -   \n",
       " 1                                                    -   \n",
       " 2                                                    -   \n",
       " 3                                                  NaN   \n",
       " 4                                                2.262   \n",
       " ..                                                 ...   \n",
       " 235  ¹ Los cambios metodológicos introducidos el 20...   \n",
       " 236     Hasta 2018 datos del 4º trimestre de cada año.   \n",
       " 237                                                NaN   \n",
       " 238  Ajuntament de Barcelona. Departament d'Estadís...   \n",
       " 239                              Fuente: Idealista.com   \n",
       " \n",
       "                                                  2.809  \\\n",
       " 0                                                2.210   \n",
       " 1                                                2.215   \n",
       " 2                                                1.580   \n",
       " 3                                                  NaN   \n",
       " 4                                                2.471   \n",
       " ..                                                 ...   \n",
       " 235  ¹ Los cambios metodológicos introducidos el 20...   \n",
       " 236     Hasta 2018 datos del 4º trimestre de cada año.   \n",
       " 237                                                NaN   \n",
       " 238  Ajuntament de Barcelona. Departament d'Estadís...   \n",
       " 239                              Fuente: Idealista.com   \n",
       " \n",
       "                                                  1.903  \\\n",
       " 0                                                1.705   \n",
       " 1                                                1.889   \n",
       " 2                                                1.975   \n",
       " 3                                                  NaN   \n",
       " 4                                                2.503   \n",
       " ..                                                 ...   \n",
       " 235  ¹ Los cambios metodológicos introducidos el 20...   \n",
       " 236     Hasta 2018 datos del 4º trimestre de cada año.   \n",
       " 237                                                NaN   \n",
       " 238  Ajuntament de Barcelona. Departament d'Estadís...   \n",
       " 239                              Fuente: Idealista.com   \n",
       " \n",
       "                                                  2.593  \n",
       " 0                                                2.328  \n",
       " 1                                                1.959  \n",
       " 2                                                1.692  \n",
       " 3                                                  NaN  \n",
       " 4                                                2.754  \n",
       " ..                                                 ...  \n",
       " 235  ¹ Los cambios metodológicos introducidos el 20...  \n",
       " 236     Hasta 2018 datos del 4º trimestre de cada año.  \n",
       " 237                                                NaN  \n",
       " 238  Ajuntament de Barcelona. Departament d'Estadís...  \n",
       " 239                              Fuente: Idealista.com  \n",
       " \n",
       " [240 rows x 7 columns]]"
      ]
     },
     "execution_count": 106,
     "metadata": {},
     "output_type": "execute_result"
    }
   ],
   "source": [
    "dfs = pd.read_html(url2,header=15)\n",
    "\n",
    "dfs"
   ]
  },
  {
   "cell_type": "code",
   "execution_count": null,
   "metadata": {},
   "outputs": [],
   "source": []
  },
  {
   "cell_type": "code",
   "execution_count": null,
   "metadata": {},
   "outputs": [],
   "source": []
  },
  {
   "cell_type": "code",
   "execution_count": null,
   "metadata": {},
   "outputs": [],
   "source": []
  }
 ],
 "metadata": {
  "kernelspec": {
   "display_name": "Python 3",
   "language": "python",
   "name": "python3"
  },
  "language_info": {
   "codemirror_mode": {
    "name": "ipython",
    "version": 3
   },
   "file_extension": ".py",
   "mimetype": "text/x-python",
   "name": "python",
   "nbconvert_exporter": "python",
   "pygments_lexer": "ipython3",
   "version": "3.8.0"
  }
 },
 "nbformat": 4,
 "nbformat_minor": 4
}
