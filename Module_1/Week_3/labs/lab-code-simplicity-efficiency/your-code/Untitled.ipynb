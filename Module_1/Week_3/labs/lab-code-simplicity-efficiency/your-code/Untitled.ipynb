{
 "cells": [
  {
   "cell_type": "code",
   "execution_count": 39,
   "metadata": {},
   "outputs": [],
   "source": [
    "import random\n",
    "import re"
   ]
  },
  {
   "cell_type": "code",
   "execution_count": 52,
   "metadata": {},
   "outputs": [],
   "source": [
    "def RandomStringGenerator(l=12):\n",
    "    import re\n",
    "    import random\n",
    "    a = (r'[A-Za-z0-9]{20}')\n",
    "    s = ''\n",
    "    c = []\n",
    "    while len(s)< l:\n",
    "        s += random.choice(a)\n",
    "        c.append(s)\n",
    "        \n",
    "    return c"
   ]
  },
  {
   "cell_type": "code",
   "execution_count": 53,
   "metadata": {},
   "outputs": [
    {
     "data": {
      "text/plain": [
       "['-',\n",
       " '-0',\n",
       " '-0z',\n",
       " '-0zZ',\n",
       " '-0zZZ',\n",
       " '-0zZZ[',\n",
       " '-0zZZ[[',\n",
       " '-0zZZ[[z',\n",
       " '-0zZZ[[z-',\n",
       " '-0zZZ[[z-A',\n",
       " '-0zZZ[[z-A0',\n",
       " '-0zZZ[[z-A09']"
      ]
     },
     "execution_count": 53,
     "metadata": {},
     "output_type": "execute_result"
    }
   ],
   "source": [
    "RandomStringGenerator()"
   ]
  },
  {
   "cell_type": "code",
   "execution_count": null,
   "metadata": {},
   "outputs": [],
   "source": []
  },
  {
   "cell_type": "code",
   "execution_count": null,
   "metadata": {},
   "outputs": [],
   "source": []
  }
 ],
 "metadata": {
  "kernelspec": {
   "display_name": "Python 3",
   "language": "python",
   "name": "python3"
  },
  "language_info": {
   "codemirror_mode": {
    "name": "ipython",
    "version": 3
   },
   "file_extension": ".py",
   "mimetype": "text/x-python",
   "name": "python",
   "nbconvert_exporter": "python",
   "pygments_lexer": "ipython3",
   "version": "3.8.0"
  }
 },
 "nbformat": 4,
 "nbformat_minor": 4
}
