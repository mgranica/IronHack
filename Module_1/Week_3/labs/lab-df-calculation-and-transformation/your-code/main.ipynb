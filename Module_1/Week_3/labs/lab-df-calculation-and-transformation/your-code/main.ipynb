{
 "cells": [
  {
   "cell_type": "code",
   "execution_count": 2,
   "metadata": {},
   "outputs": [],
   "source": [
    "# your code here\n",
    "import pandas as pd\n",
    "import sqlalchemy\n",
    "from sqlalchemy import create_engine\n",
    "import pymysql"
   ]
  },
  {
   "cell_type": "markdown",
   "metadata": {},
   "source": [
    "# Mandatory Challenge\n",
    "## Context\n",
    "You work in the data analysis team of a very important company. On Monday, the company shares some good news with you: you just got hired by a major retail company! So, let's get prepared for a huge amount of work!\n",
    "\n",
    "Then you get to work with your team and define the following tasks to perform:   \n",
    "1. You need to start your analysis using data from the past.  \n",
    "2. You need to define a process that takes your daily data as an input and integrates it.  \n",
    "\n",
    "You are in charge of the second part, so you are provided with a sample file that you will have to read daily. To complete you task, you need the following aggregates:\n",
    "* One aggregate per store that adds up the rest of the values.\n",
    "* One aggregate per item that adds up the rest of the values.\n",
    "\n",
    "You can import the dataset `retail_sales` from Ironhack's database. \n",
    "\n",
    "## Your task\n",
    "Therefore, your process will consist of the following steps:\n",
    "1. Read the sample file that a daily process will save in your folder. \n",
    "2. Clean up the data.\n",
    "3. Create the aggregates.\n",
    "4. Write three tables in your local database: \n",
    "    - A table for the cleaned data.\n",
    "    - A table for the aggregate per store.\n",
    "    - A table for the aggregate per item.\n",
    "\n",
    "## Instructions\n",
    "* Read the csv you can find in Ironhack's database.\n",
    "* Clean the data and create the aggregates as you consider.\n",
    "* Create the tables in your local database.\n",
    "* Populate them with your process."
   ]
  },
  {
   "cell_type": "code",
   "execution_count": 3,
   "metadata": {},
   "outputs": [
    {
     "name": "stdout",
     "output_type": "stream",
     "text": "mysql+pymysql://root:Tarradellas90@:3306/retail_sales\nEngine(mysql+pymysql://root:***@:3306/retail_sales)\n"
    }
   ],
   "source": [
    "driver  = 'mysql+pymysql:'\n",
    "user    = 'root'\n",
    "password= 'Tarradellas90'\n",
    "ip      = ':3306'\n",
    "database= 'retail_sales'\n",
    "\n",
    "connection_string = f'{driver}//{user}:{password}@{ip}/{database}'\n",
    "conn = create_engine(connection_string)\n",
    "print(connection_string)\n",
    "print(conn)"
   ]
  },
  {
   "cell_type": "code",
   "execution_count": 4,
   "metadata": {},
   "outputs": [
    {
     "name": "stderr",
     "output_type": "stream",
     "text": "C:\\Users\\Migue Granica\\AppData\\Local\\Programs\\Python\\Python38-32\\lib\\site-packages\\pymysql\\cursors.py:170: Warning: (1366, \"Incorrect string value: '\\\\xE1ndar ...' for column 'VARIABLE_VALUE' at row 485\")\n  result = self._query(query)\n"
    },
    {
     "data": {
      "text/html": "<div>\n<style scoped>\n    .dataframe tbody tr th:only-of-type {\n        vertical-align: middle;\n    }\n\n    .dataframe tbody tr th {\n        vertical-align: top;\n    }\n\n    .dataframe thead th {\n        text-align: right;\n    }\n</style>\n<table border=\"1\" class=\"dataframe\">\n  <thead>\n    <tr style=\"text-align: right;\">\n      <th></th>\n      <th>date</th>\n      <th>shop_id</th>\n      <th>item_id</th>\n      <th>item_price</th>\n      <th>item_cnt_day</th>\n    </tr>\n  </thead>\n  <tbody>\n    <tr>\n      <th>0</th>\n      <td>2015-01-04</td>\n      <td>29</td>\n      <td>1469</td>\n      <td>1199.0</td>\n      <td>1.0</td>\n    </tr>\n    <tr>\n      <th>1</th>\n      <td>2015-01-04</td>\n      <td>28</td>\n      <td>21364</td>\n      <td>479.0</td>\n      <td>1.0</td>\n    </tr>\n    <tr>\n      <th>2</th>\n      <td>2015-01-04</td>\n      <td>28</td>\n      <td>21365</td>\n      <td>999.0</td>\n      <td>2.0</td>\n    </tr>\n    <tr>\n      <th>3</th>\n      <td>2015-01-04</td>\n      <td>28</td>\n      <td>22104</td>\n      <td>249.0</td>\n      <td>2.0</td>\n    </tr>\n    <tr>\n      <th>4</th>\n      <td>2015-01-04</td>\n      <td>28</td>\n      <td>22091</td>\n      <td>179.0</td>\n      <td>1.0</td>\n    </tr>\n    <tr>\n      <th>...</th>\n      <td>...</td>\n      <td>...</td>\n      <td>...</td>\n      <td>...</td>\n      <td>...</td>\n    </tr>\n    <tr>\n      <th>4540</th>\n      <td>2015-01-04</td>\n      <td>15</td>\n      <td>4240</td>\n      <td>1299.0</td>\n      <td>1.0</td>\n    </tr>\n    <tr>\n      <th>4541</th>\n      <td>2015-01-04</td>\n      <td>14</td>\n      <td>21922</td>\n      <td>99.0</td>\n      <td>1.0</td>\n    </tr>\n    <tr>\n      <th>4542</th>\n      <td>2015-01-04</td>\n      <td>15</td>\n      <td>1969</td>\n      <td>3999.0</td>\n      <td>1.0</td>\n    </tr>\n    <tr>\n      <th>4543</th>\n      <td>2015-01-04</td>\n      <td>14</td>\n      <td>22091</td>\n      <td>179.0</td>\n      <td>1.0</td>\n    </tr>\n    <tr>\n      <th>4544</th>\n      <td>2015-01-04</td>\n      <td>15</td>\n      <td>1007</td>\n      <td>1199.0</td>\n      <td>1.0</td>\n    </tr>\n  </tbody>\n</table>\n<p>4545 rows × 5 columns</p>\n</div>",
      "text/plain": "           date  shop_id  item_id  item_price  item_cnt_day\n0    2015-01-04       29     1469      1199.0           1.0\n1    2015-01-04       28    21364       479.0           1.0\n2    2015-01-04       28    21365       999.0           2.0\n3    2015-01-04       28    22104       249.0           2.0\n4    2015-01-04       28    22091       179.0           1.0\n...         ...      ...      ...         ...           ...\n4540 2015-01-04       15     4240      1299.0           1.0\n4541 2015-01-04       14    21922        99.0           1.0\n4542 2015-01-04       15     1969      3999.0           1.0\n4543 2015-01-04       14    22091       179.0           1.0\n4544 2015-01-04       15     1007      1199.0           1.0\n\n[4545 rows x 5 columns]"
     },
     "execution_count": 4,
     "metadata": {},
     "output_type": "execute_result"
    }
   ],
   "source": [
    "#df = pd.read_sql('SELECT * FROM authors', engine)\n",
    "df_raw_sales = pd.read_sql('SELECT * FROM raw_sales', conn)\n",
    "df_raw_sales"
   ]
  },
  {
   "cell_type": "code",
   "execution_count": 5,
   "metadata": {},
   "outputs": [
    {
     "data": {
      "text/html": "<div>\n<style scoped>\n    .dataframe tbody tr th:only-of-type {\n        vertical-align: middle;\n    }\n\n    .dataframe tbody tr th {\n        vertical-align: top;\n    }\n\n    .dataframe thead th {\n        text-align: right;\n    }\n</style>\n<table border=\"1\" class=\"dataframe\">\n  <thead>\n    <tr style=\"text-align: right;\">\n      <th></th>\n      <th>shop_id</th>\n      <th>item_id</th>\n      <th>item_price</th>\n      <th>item_cnt_day</th>\n    </tr>\n  </thead>\n  <tbody>\n    <tr>\n      <th>count</th>\n      <td>4545.000000</td>\n      <td>4545.000000</td>\n      <td>4545.000000</td>\n      <td>4545.000000</td>\n    </tr>\n    <tr>\n      <th>mean</th>\n      <td>34.021122</td>\n      <td>11140.459406</td>\n      <td>1031.686121</td>\n      <td>1.103630</td>\n    </tr>\n    <tr>\n      <th>std</th>\n      <td>16.565517</td>\n      <td>6558.649572</td>\n      <td>2073.919990</td>\n      <td>0.536967</td>\n    </tr>\n    <tr>\n      <th>min</th>\n      <td>2.000000</td>\n      <td>30.000000</td>\n      <td>3.000000</td>\n      <td>-1.000000</td>\n    </tr>\n    <tr>\n      <th>25%</th>\n      <td>22.000000</td>\n      <td>4977.000000</td>\n      <td>249.000000</td>\n      <td>1.000000</td>\n    </tr>\n    <tr>\n      <th>50%</th>\n      <td>31.000000</td>\n      <td>11247.000000</td>\n      <td>479.000000</td>\n      <td>1.000000</td>\n    </tr>\n    <tr>\n      <th>75%</th>\n      <td>50.000000</td>\n      <td>16671.000000</td>\n      <td>1192.000000</td>\n      <td>1.000000</td>\n    </tr>\n    <tr>\n      <th>max</th>\n      <td>59.000000</td>\n      <td>22162.000000</td>\n      <td>27990.000000</td>\n      <td>10.000000</td>\n    </tr>\n  </tbody>\n</table>\n</div>",
      "text/plain": "           shop_id       item_id    item_price  item_cnt_day\ncount  4545.000000   4545.000000   4545.000000   4545.000000\nmean     34.021122  11140.459406   1031.686121      1.103630\nstd      16.565517   6558.649572   2073.919990      0.536967\nmin       2.000000     30.000000      3.000000     -1.000000\n25%      22.000000   4977.000000    249.000000      1.000000\n50%      31.000000  11247.000000    479.000000      1.000000\n75%      50.000000  16671.000000   1192.000000      1.000000\nmax      59.000000  22162.000000  27990.000000     10.000000"
     },
     "execution_count": 5,
     "metadata": {},
     "output_type": "execute_result"
    }
   ],
   "source": [
    "df_raw_sales.describe()"
   ]
  },
  {
   "cell_type": "code",
   "execution_count": 6,
   "metadata": {},
   "outputs": [
    {
     "data": {
      "text/html": "<div>\n<style scoped>\n    .dataframe tbody tr th:only-of-type {\n        vertical-align: middle;\n    }\n\n    .dataframe tbody tr th {\n        vertical-align: top;\n    }\n\n    .dataframe thead th {\n        text-align: right;\n    }\n</style>\n<table border=\"1\" class=\"dataframe\">\n  <thead>\n    <tr style=\"text-align: right;\">\n      <th></th>\n      <th>date</th>\n      <th>shop_id</th>\n      <th>item_id</th>\n      <th>item_price</th>\n      <th>item_cnt_day</th>\n    </tr>\n  </thead>\n  <tbody>\n    <tr>\n      <th>179</th>\n      <td>2015-01-04</td>\n      <td>35</td>\n      <td>7877</td>\n      <td>3990.00</td>\n      <td>-1.0</td>\n    </tr>\n    <tr>\n      <th>305</th>\n      <td>2015-01-04</td>\n      <td>25</td>\n      <td>2575</td>\n      <td>2099.00</td>\n      <td>-1.0</td>\n    </tr>\n    <tr>\n      <th>386</th>\n      <td>2015-01-04</td>\n      <td>21</td>\n      <td>2946</td>\n      <td>449.00</td>\n      <td>-1.0</td>\n    </tr>\n    <tr>\n      <th>391</th>\n      <td>2015-01-04</td>\n      <td>21</td>\n      <td>1523</td>\n      <td>799.00</td>\n      <td>-1.0</td>\n    </tr>\n    <tr>\n      <th>825</th>\n      <td>2015-01-04</td>\n      <td>52</td>\n      <td>16677</td>\n      <td>332.67</td>\n      <td>-1.0</td>\n    </tr>\n    <tr>\n      <th>899</th>\n      <td>2015-01-04</td>\n      <td>44</td>\n      <td>14652</td>\n      <td>199.00</td>\n      <td>-1.0</td>\n    </tr>\n    <tr>\n      <th>901</th>\n      <td>2015-01-04</td>\n      <td>44</td>\n      <td>8095</td>\n      <td>499.00</td>\n      <td>-1.0</td>\n    </tr>\n    <tr>\n      <th>926</th>\n      <td>2015-01-04</td>\n      <td>44</td>\n      <td>1114</td>\n      <td>299.00</td>\n      <td>-1.0</td>\n    </tr>\n    <tr>\n      <th>1161</th>\n      <td>2015-01-04</td>\n      <td>42</td>\n      <td>1878</td>\n      <td>2599.00</td>\n      <td>-1.0</td>\n    </tr>\n    <tr>\n      <th>1416</th>\n      <td>2015-01-04</td>\n      <td>19</td>\n      <td>2690</td>\n      <td>1598.00</td>\n      <td>-1.0</td>\n    </tr>\n    <tr>\n      <th>1694</th>\n      <td>2015-01-04</td>\n      <td>35</td>\n      <td>7877</td>\n      <td>3990.00</td>\n      <td>-1.0</td>\n    </tr>\n    <tr>\n      <th>1820</th>\n      <td>2015-01-04</td>\n      <td>25</td>\n      <td>2575</td>\n      <td>2099.00</td>\n      <td>-1.0</td>\n    </tr>\n    <tr>\n      <th>1901</th>\n      <td>2015-01-04</td>\n      <td>21</td>\n      <td>2946</td>\n      <td>449.00</td>\n      <td>-1.0</td>\n    </tr>\n    <tr>\n      <th>1906</th>\n      <td>2015-01-04</td>\n      <td>21</td>\n      <td>1523</td>\n      <td>799.00</td>\n      <td>-1.0</td>\n    </tr>\n    <tr>\n      <th>2340</th>\n      <td>2015-01-04</td>\n      <td>52</td>\n      <td>16677</td>\n      <td>332.67</td>\n      <td>-1.0</td>\n    </tr>\n    <tr>\n      <th>2414</th>\n      <td>2015-01-04</td>\n      <td>44</td>\n      <td>14652</td>\n      <td>199.00</td>\n      <td>-1.0</td>\n    </tr>\n    <tr>\n      <th>2416</th>\n      <td>2015-01-04</td>\n      <td>44</td>\n      <td>8095</td>\n      <td>499.00</td>\n      <td>-1.0</td>\n    </tr>\n    <tr>\n      <th>2441</th>\n      <td>2015-01-04</td>\n      <td>44</td>\n      <td>1114</td>\n      <td>299.00</td>\n      <td>-1.0</td>\n    </tr>\n    <tr>\n      <th>2676</th>\n      <td>2015-01-04</td>\n      <td>42</td>\n      <td>1878</td>\n      <td>2599.00</td>\n      <td>-1.0</td>\n    </tr>\n    <tr>\n      <th>2931</th>\n      <td>2015-01-04</td>\n      <td>19</td>\n      <td>2690</td>\n      <td>1598.00</td>\n      <td>-1.0</td>\n    </tr>\n    <tr>\n      <th>3209</th>\n      <td>2015-01-04</td>\n      <td>35</td>\n      <td>7877</td>\n      <td>3990.00</td>\n      <td>-1.0</td>\n    </tr>\n    <tr>\n      <th>3335</th>\n      <td>2015-01-04</td>\n      <td>25</td>\n      <td>2575</td>\n      <td>2099.00</td>\n      <td>-1.0</td>\n    </tr>\n    <tr>\n      <th>3416</th>\n      <td>2015-01-04</td>\n      <td>21</td>\n      <td>2946</td>\n      <td>449.00</td>\n      <td>-1.0</td>\n    </tr>\n    <tr>\n      <th>3421</th>\n      <td>2015-01-04</td>\n      <td>21</td>\n      <td>1523</td>\n      <td>799.00</td>\n      <td>-1.0</td>\n    </tr>\n    <tr>\n      <th>3855</th>\n      <td>2015-01-04</td>\n      <td>52</td>\n      <td>16677</td>\n      <td>332.67</td>\n      <td>-1.0</td>\n    </tr>\n    <tr>\n      <th>3929</th>\n      <td>2015-01-04</td>\n      <td>44</td>\n      <td>14652</td>\n      <td>199.00</td>\n      <td>-1.0</td>\n    </tr>\n    <tr>\n      <th>3931</th>\n      <td>2015-01-04</td>\n      <td>44</td>\n      <td>8095</td>\n      <td>499.00</td>\n      <td>-1.0</td>\n    </tr>\n    <tr>\n      <th>3956</th>\n      <td>2015-01-04</td>\n      <td>44</td>\n      <td>1114</td>\n      <td>299.00</td>\n      <td>-1.0</td>\n    </tr>\n    <tr>\n      <th>4191</th>\n      <td>2015-01-04</td>\n      <td>42</td>\n      <td>1878</td>\n      <td>2599.00</td>\n      <td>-1.0</td>\n    </tr>\n    <tr>\n      <th>4446</th>\n      <td>2015-01-04</td>\n      <td>19</td>\n      <td>2690</td>\n      <td>1598.00</td>\n      <td>-1.0</td>\n    </tr>\n  </tbody>\n</table>\n</div>",
      "text/plain": "           date  shop_id  item_id  item_price  item_cnt_day\n179  2015-01-04       35     7877     3990.00          -1.0\n305  2015-01-04       25     2575     2099.00          -1.0\n386  2015-01-04       21     2946      449.00          -1.0\n391  2015-01-04       21     1523      799.00          -1.0\n825  2015-01-04       52    16677      332.67          -1.0\n899  2015-01-04       44    14652      199.00          -1.0\n901  2015-01-04       44     8095      499.00          -1.0\n926  2015-01-04       44     1114      299.00          -1.0\n1161 2015-01-04       42     1878     2599.00          -1.0\n1416 2015-01-04       19     2690     1598.00          -1.0\n1694 2015-01-04       35     7877     3990.00          -1.0\n1820 2015-01-04       25     2575     2099.00          -1.0\n1901 2015-01-04       21     2946      449.00          -1.0\n1906 2015-01-04       21     1523      799.00          -1.0\n2340 2015-01-04       52    16677      332.67          -1.0\n2414 2015-01-04       44    14652      199.00          -1.0\n2416 2015-01-04       44     8095      499.00          -1.0\n2441 2015-01-04       44     1114      299.00          -1.0\n2676 2015-01-04       42     1878     2599.00          -1.0\n2931 2015-01-04       19     2690     1598.00          -1.0\n3209 2015-01-04       35     7877     3990.00          -1.0\n3335 2015-01-04       25     2575     2099.00          -1.0\n3416 2015-01-04       21     2946      449.00          -1.0\n3421 2015-01-04       21     1523      799.00          -1.0\n3855 2015-01-04       52    16677      332.67          -1.0\n3929 2015-01-04       44    14652      199.00          -1.0\n3931 2015-01-04       44     8095      499.00          -1.0\n3956 2015-01-04       44     1114      299.00          -1.0\n4191 2015-01-04       42     1878     2599.00          -1.0\n4446 2015-01-04       19     2690     1598.00          -1.0"
     },
     "execution_count": 6,
     "metadata": {},
     "output_type": "execute_result"
    }
   ],
   "source": [
    "df_raw_sales.loc[df_raw_sales['item_cnt_day']== -1]"
   ]
  },
  {
   "cell_type": "code",
   "execution_count": 7,
   "metadata": {},
   "outputs": [
    {
     "data": {
      "text/plain": "date            30\nshop_id         30\nitem_id         30\nitem_price      30\nitem_cnt_day    30\ndtype: int64"
     },
     "execution_count": 7,
     "metadata": {},
     "output_type": "execute_result"
    }
   ],
   "source": [
    "#we do a count to see the number of devolutions that have been made during the day.\n",
    "#the result is 30. by conserving then we preser the stock available and the true income of the enterprise.df_raw_sales. if we preferred to change them by a 0 or a NaN we could use a .replace() to do it.\n",
    "df_raw_sales.loc[df_raw_sales['item_cnt_day']== -1].count()"
   ]
  },
  {
   "cell_type": "code",
   "execution_count": 31,
   "metadata": {
    "scrolled": true
   },
   "outputs": [
    {
     "data": {
      "text/html": [
       "<div>\n",
       "<style scoped>\n",
       "    .dataframe tbody tr th:only-of-type {\n",
       "        vertical-align: middle;\n",
       "    }\n",
       "\n",
       "    .dataframe tbody tr th {\n",
       "        vertical-align: top;\n",
       "    }\n",
       "\n",
       "    .dataframe thead th {\n",
       "        text-align: right;\n",
       "    }\n",
       "</style>\n",
       "<table border=\"1\" class=\"dataframe\">\n",
       "  <thead>\n",
       "    <tr style=\"text-align: right;\">\n",
       "      <th></th>\n",
       "      <th>date</th>\n",
       "      <th>shop_id</th>\n",
       "      <th>item_id</th>\n",
       "      <th>item_price</th>\n",
       "      <th>item_cnt_day</th>\n",
       "    </tr>\n",
       "  </thead>\n",
       "  <tbody>\n",
       "  </tbody>\n",
       "</table>\n",
       "</div>"
      ],
      "text/plain": [
       "Empty DataFrame\n",
       "Columns: [date, shop_id, item_id, item_price, item_cnt_day]\n",
       "Index: []"
      ]
     },
     "execution_count": 31,
     "metadata": {},
     "output_type": "execute_result"
    }
   ],
   "source": [
    "#we look for null values\n",
    "df_raw_sales[df_raw_sales.shop_id.isnull()]"
   ]
  },
  {
   "cell_type": "code",
   "execution_count": 11,
   "metadata": {},
   "outputs": [
    {
     "data": {
      "text/html": "<div>\n<style scoped>\n    .dataframe tbody tr th:only-of-type {\n        vertical-align: middle;\n    }\n\n    .dataframe tbody tr th {\n        vertical-align: top;\n    }\n\n    .dataframe thead th {\n        text-align: right;\n    }\n</style>\n<table border=\"1\" class=\"dataframe\">\n  <thead>\n    <tr style=\"text-align: right;\">\n      <th></th>\n      <th>date</th>\n      <th>shop_id</th>\n      <th>item_id</th>\n      <th>item_price</th>\n      <th>item_cnt_day</th>\n      <th>item_benefit</th>\n    </tr>\n  </thead>\n  <tbody>\n    <tr>\n      <th>0</th>\n      <td>2015-01-04</td>\n      <td>29</td>\n      <td>1469</td>\n      <td>1199.0</td>\n      <td>1.0</td>\n      <td>1199.0</td>\n    </tr>\n    <tr>\n      <th>1</th>\n      <td>2015-01-04</td>\n      <td>28</td>\n      <td>21364</td>\n      <td>479.0</td>\n      <td>1.0</td>\n      <td>479.0</td>\n    </tr>\n    <tr>\n      <th>2</th>\n      <td>2015-01-04</td>\n      <td>28</td>\n      <td>21365</td>\n      <td>999.0</td>\n      <td>2.0</td>\n      <td>1998.0</td>\n    </tr>\n    <tr>\n      <th>3</th>\n      <td>2015-01-04</td>\n      <td>28</td>\n      <td>22104</td>\n      <td>249.0</td>\n      <td>2.0</td>\n      <td>498.0</td>\n    </tr>\n    <tr>\n      <th>4</th>\n      <td>2015-01-04</td>\n      <td>28</td>\n      <td>22091</td>\n      <td>179.0</td>\n      <td>1.0</td>\n      <td>179.0</td>\n    </tr>\n    <tr>\n      <th>...</th>\n      <td>...</td>\n      <td>...</td>\n      <td>...</td>\n      <td>...</td>\n      <td>...</td>\n      <td>...</td>\n    </tr>\n    <tr>\n      <th>4540</th>\n      <td>2015-01-04</td>\n      <td>15</td>\n      <td>4240</td>\n      <td>1299.0</td>\n      <td>1.0</td>\n      <td>1299.0</td>\n    </tr>\n    <tr>\n      <th>4541</th>\n      <td>2015-01-04</td>\n      <td>14</td>\n      <td>21922</td>\n      <td>99.0</td>\n      <td>1.0</td>\n      <td>99.0</td>\n    </tr>\n    <tr>\n      <th>4542</th>\n      <td>2015-01-04</td>\n      <td>15</td>\n      <td>1969</td>\n      <td>3999.0</td>\n      <td>1.0</td>\n      <td>3999.0</td>\n    </tr>\n    <tr>\n      <th>4543</th>\n      <td>2015-01-04</td>\n      <td>14</td>\n      <td>22091</td>\n      <td>179.0</td>\n      <td>1.0</td>\n      <td>179.0</td>\n    </tr>\n    <tr>\n      <th>4544</th>\n      <td>2015-01-04</td>\n      <td>15</td>\n      <td>1007</td>\n      <td>1199.0</td>\n      <td>1.0</td>\n      <td>1199.0</td>\n    </tr>\n  </tbody>\n</table>\n<p>4545 rows × 6 columns</p>\n</div>",
      "text/plain": "           date  shop_id  item_id  item_price  item_cnt_day  item_benefit\n0    2015-01-04       29     1469      1199.0           1.0        1199.0\n1    2015-01-04       28    21364       479.0           1.0         479.0\n2    2015-01-04       28    21365       999.0           2.0        1998.0\n3    2015-01-04       28    22104       249.0           2.0         498.0\n4    2015-01-04       28    22091       179.0           1.0         179.0\n...         ...      ...      ...         ...           ...           ...\n4540 2015-01-04       15     4240      1299.0           1.0        1299.0\n4541 2015-01-04       14    21922        99.0           1.0          99.0\n4542 2015-01-04       15     1969      3999.0           1.0        3999.0\n4543 2015-01-04       14    22091       179.0           1.0         179.0\n4544 2015-01-04       15     1007      1199.0           1.0        1199.0\n\n[4545 rows x 6 columns]"
     },
     "execution_count": 11,
     "metadata": {},
     "output_type": "execute_result"
    }
   ],
   "source": [
    "#add a column with benefit representing the number of items solds by the price of them\n",
    "df_raw_sales['item_benefit'] = df_raw_sales['item_price']*df_raw_sales['item_cnt_day']\n",
    "df_raw_sales"
   ]
  },
  {
   "cell_type": "code",
   "execution_count": 17,
   "metadata": {},
   "outputs": [
    {
     "data": {
      "text/html": "<div>\n<style scoped>\n    .dataframe tbody tr th:only-of-type {\n        vertical-align: middle;\n    }\n\n    .dataframe tbody tr th {\n        vertical-align: top;\n    }\n\n    .dataframe thead th {\n        text-align: right;\n    }\n</style>\n<table border=\"1\" class=\"dataframe\">\n  <thead>\n    <tr style=\"text-align: right;\">\n      <th></th>\n      <th>item_cnt_day</th>\n      <th>item_benefit</th>\n    </tr>\n    <tr>\n      <th>shop_id</th>\n      <th></th>\n      <th></th>\n    </tr>\n  </thead>\n  <tbody>\n    <tr>\n      <th>42</th>\n      <td>249.0</td>\n      <td>330111.0</td>\n    </tr>\n    <tr>\n      <th>31</th>\n      <td>402.0</td>\n      <td>304692.0</td>\n    </tr>\n    <tr>\n      <th>12</th>\n      <td>216.0</td>\n      <td>295173.0</td>\n    </tr>\n    <tr>\n      <th>25</th>\n      <td>312.0</td>\n      <td>288432.0</td>\n    </tr>\n    <tr>\n      <th>21</th>\n      <td>180.0</td>\n      <td>228999.0</td>\n    </tr>\n  </tbody>\n</table>\n</div>",
      "text/plain": "         item_cnt_day  item_benefit\nshop_id                            \n42              249.0      330111.0\n31              402.0      304692.0\n12              216.0      295173.0\n25              312.0      288432.0\n21              180.0      228999.0"
     },
     "execution_count": 17,
     "metadata": {},
     "output_type": "execute_result"
    }
   ],
   "source": [
    ")\n",
    "df_sales_by_shop = df_raw_sales.groupby(['shop_id']).sum()\n",
    "sales_by_shop = df_sales_by_shop.drop(columns = ['item_id','item_price'])\n",
    "sales_by_shop.sort_values( by = 'item_benefit', ascending = False).head(5)"
   ]
  },
  {
   "cell_type": "code",
   "execution_count": 20,
   "metadata": {},
   "outputs": [
    {
     "data": {
      "text/html": "<div>\n<style scoped>\n    .dataframe tbody tr th:only-of-type {\n        vertical-align: middle;\n    }\n\n    .dataframe tbody tr th {\n        vertical-align: top;\n    }\n\n    .dataframe thead th {\n        text-align: right;\n    }\n</style>\n<table border=\"1\" class=\"dataframe\">\n  <thead>\n    <tr style=\"text-align: right;\">\n      <th></th>\n      <th>item_cnt_day</th>\n      <th>item_benefit</th>\n    </tr>\n  </thead>\n  <tbody>\n    <tr>\n      <th>count</th>\n      <td>45.000000</td>\n      <td>45.000000</td>\n    </tr>\n    <tr>\n      <th>mean</th>\n      <td>111.466667</td>\n      <td>112928.346667</td>\n    </tr>\n    <tr>\n      <th>std</th>\n      <td>87.046905</td>\n      <td>84000.575563</td>\n    </tr>\n    <tr>\n      <th>min</th>\n      <td>18.000000</td>\n      <td>10665.000000</td>\n    </tr>\n    <tr>\n      <th>25%</th>\n      <td>60.000000</td>\n      <td>51420.000000</td>\n    </tr>\n    <tr>\n      <th>50%</th>\n      <td>78.000000</td>\n      <td>85737.000000</td>\n    </tr>\n    <tr>\n      <th>75%</th>\n      <td>150.000000</td>\n      <td>142863.000000</td>\n    </tr>\n    <tr>\n      <th>max</th>\n      <td>402.000000</td>\n      <td>330111.000000</td>\n    </tr>\n  </tbody>\n</table>\n</div>",
      "text/plain": "       item_cnt_day   item_benefit\ncount     45.000000      45.000000\nmean     111.466667  112928.346667\nstd       87.046905   84000.575563\nmin       18.000000   10665.000000\n25%       60.000000   51420.000000\n50%       78.000000   85737.000000\n75%      150.000000  142863.000000\nmax      402.000000  330111.000000"
     },
     "execution_count": 20,
     "metadata": {},
     "output_type": "execute_result"
    }
   ],
   "source": [
    "sales_by_shop.sort_values( by = 'item_benefit', ascending = False).describe()"
   ]
  },
  {
   "cell_type": "code",
   "execution_count": 31,
   "metadata": {},
   "outputs": [
    {
     "data": {
      "text/html": "<div>\n<style scoped>\n    .dataframe tbody tr th:only-of-type {\n        vertical-align: middle;\n    }\n\n    .dataframe tbody tr th {\n        vertical-align: top;\n    }\n\n    .dataframe thead th {\n        text-align: right;\n    }\n</style>\n<table border=\"1\" class=\"dataframe\">\n  <thead>\n    <tr style=\"text-align: right;\">\n      <th></th>\n      <th>item_price</th>\n      <th>item_cnt_day</th>\n      <th>item_benefit</th>\n    </tr>\n    <tr>\n      <th>item_id</th>\n      <th></th>\n      <th></th>\n      <th></th>\n    </tr>\n  </thead>\n  <tbody>\n    <tr>\n      <th>30</th>\n      <td>507.0</td>\n      <td>3.0</td>\n      <td>507.0</td>\n    </tr>\n    <tr>\n      <th>31</th>\n      <td>1089.0</td>\n      <td>3.0</td>\n      <td>1089.0</td>\n    </tr>\n    <tr>\n      <th>32</th>\n      <td>447.0</td>\n      <td>3.0</td>\n      <td>447.0</td>\n    </tr>\n    <tr>\n      <th>42</th>\n      <td>897.0</td>\n      <td>3.0</td>\n      <td>897.0</td>\n    </tr>\n    <tr>\n      <th>59</th>\n      <td>747.0</td>\n      <td>3.0</td>\n      <td>747.0</td>\n    </tr>\n    <tr>\n      <th>...</th>\n      <td>...</td>\n      <td>...</td>\n      <td>...</td>\n    </tr>\n    <tr>\n      <th>22091</th>\n      <td>1074.0</td>\n      <td>6.0</td>\n      <td>1074.0</td>\n    </tr>\n    <tr>\n      <th>22092</th>\n      <td>537.0</td>\n      <td>3.0</td>\n      <td>537.0</td>\n    </tr>\n    <tr>\n      <th>22104</th>\n      <td>747.0</td>\n      <td>6.0</td>\n      <td>1494.0</td>\n    </tr>\n    <tr>\n      <th>22140</th>\n      <td>652.5</td>\n      <td>3.0</td>\n      <td>652.5</td>\n    </tr>\n    <tr>\n      <th>22162</th>\n      <td>5985.0</td>\n      <td>18.0</td>\n      <td>7182.0</td>\n    </tr>\n  </tbody>\n</table>\n<p>985 rows × 3 columns</p>\n</div>",
      "text/plain": "         item_price  item_cnt_day  item_benefit\nitem_id                                        \n30            507.0           3.0         507.0\n31           1089.0           3.0        1089.0\n32            447.0           3.0         447.0\n42            897.0           3.0         897.0\n59            747.0           3.0         747.0\n...             ...           ...           ...\n22091        1074.0           6.0        1074.0\n22092         537.0           3.0         537.0\n22104         747.0           6.0        1494.0\n22140         652.5           3.0         652.5\n22162        5985.0          18.0        7182.0\n\n[985 rows x 3 columns]"
     },
     "execution_count": 31,
     "metadata": {},
     "output_type": "execute_result"
    }
   ],
   "source": [
    "df_sales_by_item = df_raw_sales.groupby(['item_id']).sum()\n",
    "df_sales_by_item.drop(columns = ['shop_id'])"
   ]
  },
  {
   "cell_type": "code",
   "execution_count": null,
   "metadata": {},
   "outputs": [],
   "source": []
  },
  {
   "cell_type": "code",
   "execution_count": null,
   "metadata": {},
   "outputs": [],
   "source": []
  },
  {
   "cell_type": "code",
   "execution_count": null,
   "metadata": {},
   "outputs": [],
   "source": []
  },
  {
   "cell_type": "code",
   "execution_count": null,
   "metadata": {},
   "outputs": [],
   "source": []
  },
  {
   "cell_type": "code",
   "execution_count": null,
   "metadata": {},
   "outputs": [],
   "source": []
  },
  {
   "cell_type": "code",
   "execution_count": null,
   "metadata": {},
   "outputs": [],
   "source": []
  },
  {
   "cell_type": "code",
   "execution_count": null,
   "metadata": {},
   "outputs": [],
   "source": []
  },
  {
   "cell_type": "code",
   "execution_count": null,
   "metadata": {},
   "outputs": [],
   "source": []
  },
  {
   "cell_type": "code",
   "execution_count": null,
   "metadata": {},
   "outputs": [],
   "source": []
  },
  {
   "cell_type": "code",
   "execution_count": null,
   "metadata": {},
   "outputs": [],
   "source": []
  },
  {
   "cell_type": "code",
   "execution_count": null,
   "metadata": {},
   "outputs": [],
   "source": []
  },
  {
   "cell_type": "code",
   "execution_count": 35,
   "metadata": {},
   "outputs": [
    {
     "data": {
      "text/html": [
       "<div>\n",
       "<style scoped>\n",
       "    .dataframe tbody tr th:only-of-type {\n",
       "        vertical-align: middle;\n",
       "    }\n",
       "\n",
       "    .dataframe tbody tr th {\n",
       "        vertical-align: top;\n",
       "    }\n",
       "\n",
       "    .dataframe thead th {\n",
       "        text-align: right;\n",
       "    }\n",
       "</style>\n",
       "<table border=\"1\" class=\"dataframe\">\n",
       "  <thead>\n",
       "    <tr style=\"text-align: right;\">\n",
       "      <th></th>\n",
       "      <th>item_id</th>\n",
       "      <th>item_earnings</th>\n",
       "      <th>total_items_sold</th>\n",
       "      <th>date</th>\n",
       "    </tr>\n",
       "  </thead>\n",
       "  <tbody>\n",
       "    <tr>\n",
       "      <th>0</th>\n",
       "      <td>30</td>\n",
       "      <td>169.0</td>\n",
       "      <td>1.0</td>\n",
       "      <td>03/09/2019</td>\n",
       "    </tr>\n",
       "    <tr>\n",
       "      <th>1</th>\n",
       "      <td>31</td>\n",
       "      <td>363.0</td>\n",
       "      <td>1.0</td>\n",
       "      <td>03/09/2019</td>\n",
       "    </tr>\n",
       "    <tr>\n",
       "      <th>2</th>\n",
       "      <td>32</td>\n",
       "      <td>149.0</td>\n",
       "      <td>1.0</td>\n",
       "      <td>03/09/2019</td>\n",
       "    </tr>\n",
       "    <tr>\n",
       "      <th>3</th>\n",
       "      <td>42</td>\n",
       "      <td>299.0</td>\n",
       "      <td>1.0</td>\n",
       "      <td>03/09/2019</td>\n",
       "    </tr>\n",
       "    <tr>\n",
       "      <th>4</th>\n",
       "      <td>59</td>\n",
       "      <td>249.0</td>\n",
       "      <td>1.0</td>\n",
       "      <td>03/09/2019</td>\n",
       "    </tr>\n",
       "    <tr>\n",
       "      <th>...</th>\n",
       "      <td>...</td>\n",
       "      <td>...</td>\n",
       "      <td>...</td>\n",
       "      <td>...</td>\n",
       "    </tr>\n",
       "    <tr>\n",
       "      <th>2950</th>\n",
       "      <td>22091</td>\n",
       "      <td>358.0</td>\n",
       "      <td>2.0</td>\n",
       "      <td>03/12/2019</td>\n",
       "    </tr>\n",
       "    <tr>\n",
       "      <th>2951</th>\n",
       "      <td>22092</td>\n",
       "      <td>179.0</td>\n",
       "      <td>1.0</td>\n",
       "      <td>03/12/2019</td>\n",
       "    </tr>\n",
       "    <tr>\n",
       "      <th>2952</th>\n",
       "      <td>22104</td>\n",
       "      <td>249.0</td>\n",
       "      <td>2.0</td>\n",
       "      <td>03/12/2019</td>\n",
       "    </tr>\n",
       "    <tr>\n",
       "      <th>2953</th>\n",
       "      <td>22140</td>\n",
       "      <td>217.5</td>\n",
       "      <td>1.0</td>\n",
       "      <td>03/12/2019</td>\n",
       "    </tr>\n",
       "    <tr>\n",
       "      <th>2954</th>\n",
       "      <td>22162</td>\n",
       "      <td>1995.0</td>\n",
       "      <td>6.0</td>\n",
       "      <td>03/12/2019</td>\n",
       "    </tr>\n",
       "  </tbody>\n",
       "</table>\n",
       "<p>2955 rows × 4 columns</p>\n",
       "</div>"
      ],
      "text/plain": [
       "      item_id  item_earnings  total_items_sold        date\n",
       "0          30          169.0               1.0  03/09/2019\n",
       "1          31          363.0               1.0  03/09/2019\n",
       "2          32          149.0               1.0  03/09/2019\n",
       "3          42          299.0               1.0  03/09/2019\n",
       "4          59          249.0               1.0  03/09/2019\n",
       "...       ...            ...               ...         ...\n",
       "2950    22091          358.0               2.0  03/12/2019\n",
       "2951    22092          179.0               1.0  03/12/2019\n",
       "2952    22104          249.0               2.0  03/12/2019\n",
       "2953    22140          217.5               1.0  03/12/2019\n",
       "2954    22162         1995.0               6.0  03/12/2019\n",
       "\n",
       "[2955 rows x 4 columns]"
      ]
     },
     "execution_count": 35,
     "metadata": {},
     "output_type": "execute_result"
    }
   ],
   "source": [
    "df_sales_item = pd.read_sql('SELECT * FROM sales_by_item', conn)\n",
    "df_sales_item.drop(columns = [''])"
   ]
  },
  {
   "cell_type": "code",
   "execution_count": 14,
   "metadata": {},
   "outputs": [
    {
     "data": {
      "text/html": [
       "<div>\n",
       "<style scoped>\n",
       "    .dataframe tbody tr th:only-of-type {\n",
       "        vertical-align: middle;\n",
       "    }\n",
       "\n",
       "    .dataframe tbody tr th {\n",
       "        vertical-align: top;\n",
       "    }\n",
       "\n",
       "    .dataframe thead th {\n",
       "        text-align: right;\n",
       "    }\n",
       "</style>\n",
       "<table border=\"1\" class=\"dataframe\">\n",
       "  <thead>\n",
       "    <tr style=\"text-align: right;\">\n",
       "      <th></th>\n",
       "      <th>id</th>\n",
       "      <th>item_id</th>\n",
       "      <th>item_earnings</th>\n",
       "      <th>total_items_sold</th>\n",
       "      <th>date</th>\n",
       "    </tr>\n",
       "  </thead>\n",
       "  <tbody>\n",
       "    <tr>\n",
       "      <th>0</th>\n",
       "      <td>1</td>\n",
       "      <td>30</td>\n",
       "      <td>169.0</td>\n",
       "      <td>1.0</td>\n",
       "      <td>03/12/2019</td>\n",
       "    </tr>\n",
       "    <tr>\n",
       "      <th>1</th>\n",
       "      <td>2</td>\n",
       "      <td>31</td>\n",
       "      <td>363.0</td>\n",
       "      <td>1.0</td>\n",
       "      <td>03/12/2019</td>\n",
       "    </tr>\n",
       "    <tr>\n",
       "      <th>2</th>\n",
       "      <td>3</td>\n",
       "      <td>32</td>\n",
       "      <td>149.0</td>\n",
       "      <td>1.0</td>\n",
       "      <td>03/12/2019</td>\n",
       "    </tr>\n",
       "    <tr>\n",
       "      <th>3</th>\n",
       "      <td>4</td>\n",
       "      <td>42</td>\n",
       "      <td>299.0</td>\n",
       "      <td>1.0</td>\n",
       "      <td>03/12/2019</td>\n",
       "    </tr>\n",
       "    <tr>\n",
       "      <th>4</th>\n",
       "      <td>5</td>\n",
       "      <td>59</td>\n",
       "      <td>249.0</td>\n",
       "      <td>1.0</td>\n",
       "      <td>03/12/2019</td>\n",
       "    </tr>\n",
       "  </tbody>\n",
       "</table>\n",
       "</div>"
      ],
      "text/plain": [
       "   id  item_id  item_earnings  total_items_sold        date\n",
       "0   1       30          169.0               1.0  03/12/2019\n",
       "1   2       31          363.0               1.0  03/12/2019\n",
       "2   3       32          149.0               1.0  03/12/2019\n",
       "3   4       42          299.0               1.0  03/12/2019\n",
       "4   5       59          249.0               1.0  03/12/2019"
      ]
     },
     "execution_count": 14,
     "metadata": {},
     "output_type": "execute_result"
    }
   ],
   "source": [
    "df_sales_item_index = pd.read_sql('SELECT * FROM sales_by_item_index', conn)\n",
    "df_sales_item_index.head(5)"
   ]
  },
  {
   "cell_type": "code",
   "execution_count": 38,
   "metadata": {},
   "outputs": [
    {
     "data": {
      "text/html": [
       "<div>\n",
       "<style scoped>\n",
       "    .dataframe tbody tr th:only-of-type {\n",
       "        vertical-align: middle;\n",
       "    }\n",
       "\n",
       "    .dataframe tbody tr th {\n",
       "        vertical-align: top;\n",
       "    }\n",
       "\n",
       "    .dataframe thead th {\n",
       "        text-align: right;\n",
       "    }\n",
       "</style>\n",
       "<table border=\"1\" class=\"dataframe\">\n",
       "  <thead>\n",
       "    <tr style=\"text-align: right;\">\n",
       "      <th></th>\n",
       "      <th>shop_id</th>\n",
       "      <th>shop_earnings</th>\n",
       "      <th>total_items_sold</th>\n",
       "      <th>date</th>\n",
       "    </tr>\n",
       "  </thead>\n",
       "  <tbody>\n",
       "    <tr>\n",
       "      <th>0</th>\n",
       "      <td>2</td>\n",
       "      <td>33023.5</td>\n",
       "      <td>27.0</td>\n",
       "      <td>03/09/2019</td>\n",
       "    </tr>\n",
       "    <tr>\n",
       "      <th>1</th>\n",
       "      <td>3</td>\n",
       "      <td>22481.0</td>\n",
       "      <td>11.0</td>\n",
       "      <td>03/09/2019</td>\n",
       "    </tr>\n",
       "    <tr>\n",
       "      <th>2</th>\n",
       "      <td>4</td>\n",
       "      <td>9787.0</td>\n",
       "      <td>13.0</td>\n",
       "      <td>03/09/2019</td>\n",
       "    </tr>\n",
       "    <tr>\n",
       "      <th>3</th>\n",
       "      <td>5</td>\n",
       "      <td>11046.0</td>\n",
       "      <td>15.0</td>\n",
       "      <td>03/09/2019</td>\n",
       "    </tr>\n",
       "    <tr>\n",
       "      <th>4</th>\n",
       "      <td>6</td>\n",
       "      <td>38784.0</td>\n",
       "      <td>50.0</td>\n",
       "      <td>03/09/2019</td>\n",
       "    </tr>\n",
       "    <tr>\n",
       "      <th>...</th>\n",
       "      <td>...</td>\n",
       "      <td>...</td>\n",
       "      <td>...</td>\n",
       "      <td>...</td>\n",
       "    </tr>\n",
       "    <tr>\n",
       "      <th>85</th>\n",
       "      <td>55</td>\n",
       "      <td>24204.2</td>\n",
       "      <td>60.0</td>\n",
       "      <td>03/12/2019</td>\n",
       "    </tr>\n",
       "    <tr>\n",
       "      <th>86</th>\n",
       "      <td>56</td>\n",
       "      <td>15703.0</td>\n",
       "      <td>25.0</td>\n",
       "      <td>03/12/2019</td>\n",
       "    </tr>\n",
       "    <tr>\n",
       "      <th>87</th>\n",
       "      <td>57</td>\n",
       "      <td>73078.0</td>\n",
       "      <td>108.0</td>\n",
       "      <td>03/12/2019</td>\n",
       "    </tr>\n",
       "    <tr>\n",
       "      <th>88</th>\n",
       "      <td>58</td>\n",
       "      <td>45106.0</td>\n",
       "      <td>56.0</td>\n",
       "      <td>03/12/2019</td>\n",
       "    </tr>\n",
       "    <tr>\n",
       "      <th>89</th>\n",
       "      <td>59</td>\n",
       "      <td>37451.0</td>\n",
       "      <td>37.0</td>\n",
       "      <td>03/12/2019</td>\n",
       "    </tr>\n",
       "  </tbody>\n",
       "</table>\n",
       "<p>90 rows × 4 columns</p>\n",
       "</div>"
      ],
      "text/plain": [
       "    shop_id  shop_earnings  total_items_sold        date\n",
       "0         2        33023.5              27.0  03/09/2019\n",
       "1         3        22481.0              11.0  03/09/2019\n",
       "2         4         9787.0              13.0  03/09/2019\n",
       "3         5        11046.0              15.0  03/09/2019\n",
       "4         6        38784.0              50.0  03/09/2019\n",
       "..      ...            ...               ...         ...\n",
       "85       55        24204.2              60.0  03/12/2019\n",
       "86       56        15703.0              25.0  03/12/2019\n",
       "87       57        73078.0             108.0  03/12/2019\n",
       "88       58        45106.0              56.0  03/12/2019\n",
       "89       59        37451.0              37.0  03/12/2019\n",
       "\n",
       "[90 rows x 4 columns]"
      ]
     },
     "execution_count": 38,
     "metadata": {},
     "output_type": "execute_result"
    }
   ],
   "source": [
    "df_sales_shop = pd.read_sql('SELECT * FROM sales_by_shop', conn)\n",
    "df_sales_shop"
   ]
  },
  {
   "cell_type": "code",
   "execution_count": null,
   "metadata": {},
   "outputs": [],
   "source": []
  },
  {
   "cell_type": "code",
   "execution_count": null,
   "metadata": {},
   "outputs": [],
   "source": []
  },
  {
   "cell_type": "code",
   "execution_count": null,
   "metadata": {},
   "outputs": [],
   "source": []
  },
  {
   "cell_type": "code",
   "execution_count": null,
   "metadata": {},
   "outputs": [],
   "source": []
  },
  {
   "cell_type": "code",
   "execution_count": null,
   "metadata": {},
   "outputs": [],
   "source": []
  },
  {
   "cell_type": "code",
   "execution_count": null,
   "metadata": {},
   "outputs": [],
   "source": []
  },
  {
   "cell_type": "code",
   "execution_count": null,
   "metadata": {},
   "outputs": [],
   "source": []
  },
  {
   "cell_type": "code",
   "execution_count": null,
   "metadata": {},
   "outputs": [],
   "source": []
  }
 ],
 "metadata": {
  "kernelspec": {
   "display_name": "Python 3",
   "language": "python",
   "name": "python3"
  },
  "language_info": {
   "codemirror_mode": {
    "name": "ipython",
    "version": 3
   },
   "file_extension": ".py",
   "mimetype": "text/x-python",
   "name": "python",
   "nbconvert_exporter": "python",
   "pygments_lexer": "ipython3",
   "version": "3.8.0-final"
  }
 },
 "nbformat": 4,
 "nbformat_minor": 2
}