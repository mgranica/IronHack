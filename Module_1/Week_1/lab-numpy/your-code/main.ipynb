{
 "cells": [
  {
   "cell_type": "markdown",
   "metadata": {},
   "source": [
    "# Intrduction to NumPy\n",
    "\n",
    "\n",
    "#### 1. Import NumPy under the name np."
   ]
  },
  {
   "cell_type": "code",
   "execution_count": 1,
   "metadata": {},
   "outputs": [],
   "source": [
    "# your code here\n",
    "import numpy as np"
   ]
  },
  {
   "cell_type": "markdown",
   "metadata": {},
   "source": [
    "#### 2. Print your NumPy version."
   ]
  },
  {
   "cell_type": "code",
   "execution_count": 2,
   "metadata": {},
   "outputs": [],
   "source": [
    "# your code here"
   ]
  },
  {
   "cell_type": "markdown",
   "metadata": {},
   "source": [
    "#### 3. Generate a 2x3x5 3-dimensional array with random values. Assign the array to variable *a*.\n",
    "**Challenge**: there are at least three easy ways that use numpy to generate random arrays. How many ways can you find?"
   ]
  },
  {
   "cell_type": "code",
   "execution_count": 4,
   "metadata": {},
   "outputs": [
    {
     "data": {
      "text/plain": [
       "array([[[0.58377531, 0.03094453, 0.04946788, 0.99280569, 0.69402122],\n",
       "        [0.55098232, 0.93606601, 0.00376728, 0.07280013, 0.22987187],\n",
       "        [0.68951966, 0.24426489, 0.74802779, 0.46028357, 0.53438305]],\n",
       "\n",
       "       [[0.67493768, 0.74443238, 0.65898676, 0.33585867, 0.50475207],\n",
       "        [0.27152576, 0.66914459, 0.25170456, 0.6285859 , 0.26456595],\n",
       "        [0.28669227, 0.63485959, 0.30192509, 0.04882859, 0.90121308]]])"
      ]
     },
     "execution_count": 4,
     "metadata": {},
     "output_type": "execute_result"
    }
   ],
   "source": [
    "# Method 1\n",
    "a = np.random.random((2,3,5))\n",
    "a"
   ]
  },
  {
   "cell_type": "code",
   "execution_count": 5,
   "metadata": {},
   "outputs": [
    {
     "data": {
      "text/plain": [
       "array([[[59, 80, 58, 64, 15],\n",
       "        [31, 91, 54, 34, 77],\n",
       "        [54, 52, 85, 28, 95]],\n",
       "\n",
       "       [[78, 17, 36, 55, 73],\n",
       "        [ 2, 18,  9, 61, 52],\n",
       "        [51,  6, 52, 44, 85]]])"
      ]
     },
     "execution_count": 5,
     "metadata": {},
     "output_type": "execute_result"
    }
   ],
   "source": [
    "# Method 2\n",
    "a = np.random.randint(1, 100, size=(2,3,5))\n",
    "a"
   ]
  },
  {
   "cell_type": "code",
   "execution_count": 6,
   "metadata": {
    "scrolled": false
   },
   "outputs": [],
   "source": [
    "# Method 3\n"
   ]
  },
  {
   "cell_type": "markdown",
   "metadata": {},
   "source": [
    "#### 4. Print *a*.\n"
   ]
  },
  {
   "cell_type": "markdown",
   "metadata": {},
   "source": [
    "    When you print an array, NumPy displays it in a similar way to nested lists, but with the following layout:\n",
    "        the last axis is printed from left to right,\n",
    "        the second-to-last is printed from top to bottom,\n",
    "        the rest are also printed from top to bottom, with each slice separated from the next by an empty line.\n",
    "        One-dimensional arrays are then printed as rows, bidimensionals as matrices and tridimensionals as lists of matrices"
   ]
  },
  {
   "cell_type": "code",
   "execution_count": 7,
   "metadata": {},
   "outputs": [
    {
     "name": "stdout",
     "output_type": "stream",
     "text": [
      "[[[59 80 58 64 15]\n",
      "  [31 91 54 34 77]\n",
      "  [54 52 85 28 95]]\n",
      "\n",
      " [[78 17 36 55 73]\n",
      "  [ 2 18  9 61 52]\n",
      "  [51  6 52 44 85]]]\n"
     ]
    }
   ],
   "source": [
    "# your code here\n",
    "print(a) "
   ]
  },
  {
   "cell_type": "markdown",
   "metadata": {},
   "source": [
    "#### 5. Create a 5x2x3 3-dimensional array with all values equaling 1. Assign the array to variable *b*."
   ]
  },
  {
   "cell_type": "code",
   "execution_count": 8,
   "metadata": {},
   "outputs": [],
   "source": [
    "# your code here\n",
    "b= np.ones((5,2,3))\n"
   ]
  },
  {
   "cell_type": "markdown",
   "metadata": {},
   "source": [
    "#### 6. Print *b*.\n"
   ]
  },
  {
   "cell_type": "code",
   "execution_count": 9,
   "metadata": {},
   "outputs": [
    {
     "name": "stdout",
     "output_type": "stream",
     "text": [
      "[[[1. 1. 1.]\n",
      "  [1. 1. 1.]]\n",
      "\n",
      " [[1. 1. 1.]\n",
      "  [1. 1. 1.]]\n",
      "\n",
      " [[1. 1. 1.]\n",
      "  [1. 1. 1.]]\n",
      "\n",
      " [[1. 1. 1.]\n",
      "  [1. 1. 1.]]\n",
      "\n",
      " [[1. 1. 1.]\n",
      "  [1. 1. 1.]]]\n"
     ]
    }
   ],
   "source": [
    "# your code here\n",
    "print(b)"
   ]
  },
  {
   "cell_type": "markdown",
   "metadata": {},
   "source": [
    "#### 7. Do *a* and *b* have the same size? How do you prove that in Python code?"
   ]
  },
  {
   "cell_type": "code",
   "execution_count": 10,
   "metadata": {},
   "outputs": [
    {
     "data": {
      "text/plain": [
       "True"
      ]
     },
     "execution_count": 10,
     "metadata": {},
     "output_type": "execute_result"
    }
   ],
   "source": [
    "# your code here\n",
    "\n",
    "a.size == b.size\n"
   ]
  },
  {
   "cell_type": "markdown",
   "metadata": {},
   "source": [
    "#### 8. Are you able to add *a* and *b*? Why or why not?\n"
   ]
  },
  {
   "cell_type": "code",
   "execution_count": 11,
   "metadata": {},
   "outputs": [
    {
     "data": {
      "text/plain": [
       "((2, 3, 5), (5, 2, 3))"
      ]
     },
     "execution_count": 11,
     "metadata": {},
     "output_type": "execute_result"
    }
   ],
   "source": [
    "# your answer here\n",
    "#to add two numpy they must have the same shape\n",
    "a.shape, b.shape\n",
    "\n",
    "\n"
   ]
  },
  {
   "cell_type": "markdown",
   "metadata": {},
   "source": [
    "#### 9. Transpose *b* so that it has the same structure of *a* (i.e. become a 2x3x5 array). Assign the transposed array to variable *c*."
   ]
  },
  {
   "cell_type": "code",
   "execution_count": 12,
   "metadata": {},
   "outputs": [
    {
     "name": "stdout",
     "output_type": "stream",
     "text": [
      "[[[1. 1. 1. 1. 1.]\n",
      "  [1. 1. 1. 1. 1.]\n",
      "  [1. 1. 1. 1. 1.]]\n",
      "\n",
      " [[1. 1. 1. 1. 1.]\n",
      "  [1. 1. 1. 1. 1.]\n",
      "  [1. 1. 1. 1. 1.]]]\n"
     ]
    },
    {
     "data": {
      "text/plain": [
       "(2, 3, 5)"
      ]
     },
     "execution_count": 12,
     "metadata": {},
     "output_type": "execute_result"
    }
   ],
   "source": [
    "# your code here\n",
    "\n",
    "c = np.transpose (b).reshape(2,3,5)\n",
    "print(c)\n",
    "\n",
    "c.shape\n",
    "\n"
   ]
  },
  {
   "cell_type": "markdown",
   "metadata": {},
   "source": [
    "#### 10. Try to add *a* and *c*. Now it should work. Assign the sum to variable *d*. But why does it work now?"
   ]
  },
  {
   "cell_type": "code",
   "execution_count": 13,
   "metadata": {},
   "outputs": [
    {
     "name": "stdout",
     "output_type": "stream",
     "text": [
      "[[[60. 81. 59. 65. 16.]\n",
      "  [32. 92. 55. 35. 78.]\n",
      "  [55. 53. 86. 29. 96.]]\n",
      "\n",
      " [[79. 18. 37. 56. 74.]\n",
      "  [ 3. 19. 10. 62. 53.]\n",
      "  [52.  7. 53. 45. 86.]]]\n"
     ]
    }
   ],
   "source": [
    "# your code/answer here\n",
    "d = a + c\n",
    "print(d)"
   ]
  },
  {
   "cell_type": "markdown",
   "metadata": {},
   "source": [
    "#### 11. Print *a* and *d*. Notice the difference and relation of the two array in terms of the values? Explain."
   ]
  },
  {
   "cell_type": "code",
   "execution_count": 14,
   "metadata": {},
   "outputs": [
    {
     "name": "stdout",
     "output_type": "stream",
     "text": [
      "[[[59 80 58 64 15]\n",
      "  [31 91 54 34 77]\n",
      "  [54 52 85 28 95]]\n",
      "\n",
      " [[78 17 36 55 73]\n",
      "  [ 2 18  9 61 52]\n",
      "  [51  6 52 44 85]]]\n",
      "[[[60. 81. 59. 65. 16.]\n",
      "  [32. 92. 55. 35. 78.]\n",
      "  [55. 53. 86. 29. 96.]]\n",
      "\n",
      " [[79. 18. 37. 56. 74.]\n",
      "  [ 3. 19. 10. 62. 53.]\n",
      "  [52.  7. 53. 45. 86.]]]\n"
     ]
    }
   ],
   "source": [
    "# your code/answer here\n",
    "print(a)\n",
    "print(d)"
   ]
  },
  {
   "cell_type": "markdown",
   "metadata": {},
   "source": [
    "#### 12. Multiply *a* and *c*. Assign the result to *e*."
   ]
  },
  {
   "cell_type": "code",
   "execution_count": 15,
   "metadata": {},
   "outputs": [
    {
     "data": {
      "text/plain": [
       "array([[[59., 80., 58., 64., 15.],\n",
       "        [31., 91., 54., 34., 77.],\n",
       "        [54., 52., 85., 28., 95.]],\n",
       "\n",
       "       [[78., 17., 36., 55., 73.],\n",
       "        [ 2., 18.,  9., 61., 52.],\n",
       "        [51.,  6., 52., 44., 85.]]])"
      ]
     },
     "execution_count": 15,
     "metadata": {},
     "output_type": "execute_result"
    }
   ],
   "source": [
    "# your code here\n",
    "e = np.multiply(a,c)\n",
    "e"
   ]
  },
  {
   "cell_type": "markdown",
   "metadata": {},
   "source": [
    "#### 13. Does *e* equal to *a*? Why or why not?\n"
   ]
  },
  {
   "cell_type": "code",
   "execution_count": 16,
   "metadata": {},
   "outputs": [
    {
     "data": {
      "text/plain": [
       "array([[[ True,  True,  True,  True,  True],\n",
       "        [ True,  True,  True,  True,  True],\n",
       "        [ True,  True,  True,  True,  True]],\n",
       "\n",
       "       [[ True,  True,  True,  True,  True],\n",
       "        [ True,  True,  True,  True,  True],\n",
       "        [ True,  True,  True,  True,  True]]])"
      ]
     },
     "execution_count": 16,
     "metadata": {},
     "output_type": "execute_result"
    }
   ],
   "source": [
    "# your code/answer here\n",
    "e == a"
   ]
  },
  {
   "cell_type": "markdown",
   "metadata": {},
   "source": [
    "#### 14. Identify the max, min, and mean values in *d*. Assign those values to variables *d_max*, *d_min* and *d_mean*."
   ]
  },
  {
   "cell_type": "code",
   "execution_count": 17,
   "metadata": {},
   "outputs": [
    {
     "name": "stdout",
     "output_type": "stream",
     "text": [
      "[[[60. 81. 59. 65. 16.]\n",
      "  [32. 92. 55. 35. 78.]\n",
      "  [55. 53. 86. 29. 96.]]\n",
      "\n",
      " [[79. 18. 37. 56. 74.]\n",
      "  [ 3. 19. 10. 62. 53.]\n",
      "  [52.  7. 53. 45. 86.]]]\n",
      "\n",
      "The maximum value in this array is:  96.0\n",
      "The minimum value in this array is: 3.0 \n",
      "The mean of this array is: 51.53\n"
     ]
    }
   ],
   "source": [
    "# your code here\n",
    "d_max = np.max(d)\n",
    "d_min = np.min(d)\n",
    "d_mean = round(np.mean(d),2)\n",
    "print(d)\n",
    "\n",
    "print(\"\\nThe maximum value in this array is: \", str(d_max)+\"\\nThe minimum value in this array is:\",str(d_min),\"\\nThe mean of this array is:\", str(d_mean))"
   ]
  },
  {
   "cell_type": "markdown",
   "metadata": {},
   "source": [
    "#### 15. Now we want to label the values in *d*. First create an empty array *f* with the same shape (i.e. 2x3x5) as *d* using `np.empty`.\n"
   ]
  },
  {
   "cell_type": "code",
   "execution_count": 18,
   "metadata": {},
   "outputs": [
    {
     "name": "stdout",
     "output_type": "stream",
     "text": [
      "[[[60. 81. 59. 65. 16.]\n",
      "  [32. 92. 55. 35. 78.]\n",
      "  [55. 53. 86. 29. 96.]]\n",
      "\n",
      " [[79. 18. 37. 56. 74.]\n",
      "  [ 3. 19. 10. 62. 53.]\n",
      "  [52.  7. 53. 45. 86.]]]\n",
      "81.0\n"
     ]
    }
   ],
   "source": [
    "# your code here\n",
    "import numpy as np\n",
    "f = np.empty((2,3,5))\n",
    "print(f)\n",
    "print(f[0,0,1])"
   ]
  },
  {
   "cell_type": "markdown",
   "metadata": {},
   "source": [
    "#### 16. Populate the values in *f*. \n",
    "\n",
    "For each value in *d*, if it's larger than *d_min* but smaller than *d_mean*, assign 25 to the corresponding value in *f*. If a value in *d* is larger than *d_mean* but smaller than *d_max*, assign 75 to the corresponding value in *f*. If a value equals to *d_mean*, assign 50 to the corresponding value in *f*. Assign 0 to the corresponding value(s) in *f* for *d_min* in *d*. Assign 100 to the corresponding value(s) in *f* for *d_max* in *d*. In the end, f should have only the following values: 0, 25, 50, 75, and 100.\n",
    "\n",
    "**Note**: you don't have to use Numpy in this question."
   ]
  },
  {
   "cell_type": "code",
   "execution_count": 19,
   "metadata": {},
   "outputs": [
    {
     "data": {
      "text/plain": [
       "3"
      ]
     },
     "execution_count": 19,
     "metadata": {},
     "output_type": "execute_result"
    }
   ],
   "source": [
    "len(f[0])"
   ]
  },
  {
   "cell_type": "code",
   "execution_count": 23,
   "metadata": {},
   "outputs": [
    {
     "name": "stdout",
     "output_type": "stream",
     "text": [
      "3.0 51.53 96.0\n",
      "d [[[60. 81. 59. 65. 16.]\n",
      "  [32. 92. 55. 35. 78.]\n",
      "  [55. 53. 86. 29. 96.]]\n",
      "\n",
      " [[79. 18. 37. 56. 74.]\n",
      "  [ 3. 19. 10. 62. 53.]\n",
      "  [52.  7. 53. 45. 86.]]]\n",
      "f [[[25. 25. 25.  0. 25.]\n",
      "  [25. 25. 25.  0. 25.]\n",
      "  [25. 25. 25.  0. 25.]]\n",
      "\n",
      " [[25. 25. 25.  0. 25.]\n",
      "  [ 3. 25. 25.  0. 25.]\n",
      "  [25. 25. 25.  0. 25.]]]\n"
     ]
    }
   ],
   "source": [
    "\n",
    "for i in range(len(d)):\n",
    "    for j in range(len(d[i])):\n",
    "        for k in range(len(d[i][j])):\n",
    "            if d_min < k and k < d_mean:\n",
    "                f[i][j][k] = 25\n",
    "            if d_mean < k and k < d_max:\n",
    "                f[i][j][k] = 75\n",
    "            if k == d_min:\n",
    "                f[i][j][k] = 0\n",
    "            if k == d_mean:\n",
    "                f[i][j][k] = 50\n",
    "            if k == d_max:\n",
    "                f[i][j][k] = 100\n",
    "                \n",
    "print(d_min, d_mean, d_max)\n",
    "print('d', d)\n",
    "print('f', f)"
   ]
  },
  {
   "cell_type": "markdown",
   "metadata": {},
   "source": [
    "#### 17. Print *d* and *f*. Do you have your expected *f*?\n",
    "For instance, if your *d* is:\n",
    "```python\n",
    "[[[1.85836099, 1.67064465, 1.62576044, 1.40243961, 1.88454931],\n",
    "[1.75354326, 1.69403643, 1.36729252, 1.61415071, 1.12104981],\n",
    "[1.72201435, 1.1862918 , 1.87078449, 1.7726778 , 1.88180042]],\n",
    "[[1.44747908, 1.31673383, 1.02000951, 1.52218947, 1.97066381],\n",
    "[1.79129243, 1.74983003, 1.96028037, 1.85166831, 1.65450881],\n",
    "[1.18068344, 1.9587381 , 1.00656599, 1.93402165, 1.73514584]]]\n",
    "```\n",
    "Your *f* should be:\n",
    "```python\n",
    "[[[ 75.,  75.,  75.,  25.,  75.],\n",
    "[ 75.,  75.,  25.,  25.,  25.],\n",
    "[ 75.,  25.,  75.,  75.,  75.]],\n",
    "[[ 25.,  25.,  25.,  25., 100.],\n",
    "[ 75.,  75.,  75.,  75.,  75.],\n",
    "[ 25.,  75.,   0.,  75.,  75.]]]\n",
    "```"
   ]
  },
  {
   "cell_type": "code",
   "execution_count": 22,
   "metadata": {},
   "outputs": [
    {
     "name": "stdout",
     "output_type": "stream",
     "text": [
      "if d is:\n",
      "[[[60. 81. 59. 65. 16.]\n",
      "  [32. 92. 55. 35. 78.]\n",
      "  [55. 53. 86. 29. 96.]]\n",
      "\n",
      " [[79. 18. 37. 56. 74.]\n",
      "  [ 3. 19. 10. 62. 53.]\n",
      "  [52.  7. 53. 45. 86.]]]\n",
      "\n",
      "f is:\n",
      "[[[60. 81. 59.  0. 25.]\n",
      "  [32. 92. 55.  0. 25.]\n",
      "  [55. 53. 86.  0. 25.]]\n",
      "\n",
      " [[79. 18. 37.  0. 25.]\n",
      "  [ 3. 19. 10.  0. 25.]\n",
      "  [52.  7. 53.  0. 25.]]]\n"
     ]
    }
   ],
   "source": [
    "# your code here\n",
    "print(\"if d is:\")\n",
    "print(d)\n",
    "print(\"\\nf is:\")\n",
    "print(f)"
   ]
  },
  {
   "cell_type": "markdown",
   "metadata": {},
   "source": [
    "#### 18. Bonus question: instead of using numbers (i.e. 0, 25, 50, 75, and 100), use string values  (\"A\", \"B\", \"C\", \"D\", and \"E\") to label the array elements. For the example above, the expected result is:\n",
    "\n",
    "```python\n",
    "[[[ 'D',  'D',  'D',  'B',  'D'],\n",
    "[ 'D',  'D',  'B',  'B',  'B'],\n",
    "[ 'D',  'B',  'D',  'D',  'D']],\n",
    "[[ 'B',  'B',  'B',  'B',  'E'],\n",
    "[ 'D',  'D',  'D',  'D',  'D'],\n",
    "[ 'B',  'D',   'A',  'D', 'D']]]\n",
    "```\n",
    "**Note**: you don't have to use Numpy in this question."
   ]
  },
  {
   "cell_type": "code",
   "execution_count": 26,
   "metadata": {},
   "outputs": [
    {
     "name": "stdout",
     "output_type": "stream",
     "text": [
      "5.0 44.17 99.0\n",
      "if d is:\n",
      "[[[49. 72. 19. 28. 80.]\n",
      "  [16. 59. 74. 30. 77.]\n",
      "  [84. 99. 30. 97. 29.]]\n",
      "\n",
      " [[61.  5.  7. 49. 31.]\n",
      "  [45. 37. 20. 26. 20.]\n",
      "  [61. 45. 45. 17. 13.]]]\n",
      "\n",
      "f is:\n",
      "[[[49. 72. 19. 28. 80.]\n",
      "  [16. 59. 74. 30. 77.]\n",
      "  [84. 99. 30. 97. 29.]]\n",
      "\n",
      " [[61.  5.  7. 49. 31.]\n",
      "  [45. 37. 20. 26. 20.]\n",
      "  [61. 45. 45. 17. 13.]]]\n"
     ]
    }
   ],
   "source": [
    "# your code here\n",
    "for i in range(len(d)):\n",
    "    for j in range(len(d[i])):\n",
    "        for k in range(len(d[i][j])):           \n",
    "            if k == d_min:\n",
    "                f[i][j][k] = \"A\"\n",
    "            if d_min < k < d_mean:\n",
    "                f[i][j][k] = \"B\"\n",
    "            if k == d_mean:\n",
    "                f[i][j][k] = \"C\"\n",
    "            if d_mean < k < d_max:\n",
    "                f[i][j][k] = \"D\"\n",
    "            if k == d_max:\n",
    "                f[i][j][k] = \"E\"\n",
    "print(d_min, d_mean, d_max)\n",
    "print(\"if d is:\")\n",
    "print(d)\n",
    "print(\"\\nf is:\")\n",
    "print(f)"
   ]
  },
  {
   "cell_type": "code",
   "execution_count": null,
   "metadata": {},
   "outputs": [],
   "source": []
  }
 ],
 "metadata": {
  "kernelspec": {
   "display_name": "Python 3",
   "language": "python",
   "name": "python3"
  },
  "language_info": {
   "codemirror_mode": {
    "name": "ipython",
    "version": 3
   },
   "file_extension": ".py",
   "mimetype": "text/x-python",
   "name": "python",
   "nbconvert_exporter": "python",
   "pygments_lexer": "ipython3",
   "version": "3.7.4"
  }
 },
 "nbformat": 4,
 "nbformat_minor": 2
}
